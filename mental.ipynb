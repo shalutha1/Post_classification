{
 "cells": [
  {
   "cell_type": "code",
   "execution_count": 4,
   "id": "f19f7a11-f8f1-435c-a744-968da9a7292f",
   "metadata": {},
   "outputs": [],
   "source": [
    "import numpy as np\n",
    "import pandas as pd\n",
    "import matplotlib.pyplot as plt\n",
    "import seaborn as sns"
   ]
  },
  {
   "cell_type": "code",
   "execution_count": 5,
   "id": "813bdf7d-a9f5-45dd-9da3-085234570c78",
   "metadata": {},
   "outputs": [],
   "source": [
    "data = pd.read_csv(\"Mental Health Dataset.csv\")"
   ]
  },
  {
   "cell_type": "code",
   "execution_count": 6,
   "id": "4cd327b4-c8b2-4305-8cc8-4837408890bc",
   "metadata": {
    "scrolled": true
   },
   "outputs": [
    {
     "data": {
      "text/html": [
       "<div>\n",
       "<style scoped>\n",
       "    .dataframe tbody tr th:only-of-type {\n",
       "        vertical-align: middle;\n",
       "    }\n",
       "\n",
       "    .dataframe tbody tr th {\n",
       "        vertical-align: top;\n",
       "    }\n",
       "\n",
       "    .dataframe thead th {\n",
       "        text-align: right;\n",
       "    }\n",
       "</style>\n",
       "<table border=\"1\" class=\"dataframe\">\n",
       "  <thead>\n",
       "    <tr style=\"text-align: right;\">\n",
       "      <th></th>\n",
       "      <th>posts</th>\n",
       "      <th>predicted</th>\n",
       "      <th>intensity</th>\n",
       "    </tr>\n",
       "  </thead>\n",
       "  <tbody>\n",
       "    <tr>\n",
       "      <th>0</th>\n",
       "      <td>I know as parent of child with down syndrome t...</td>\n",
       "      <td>negative</td>\n",
       "      <td>-1</td>\n",
       "    </tr>\n",
       "    <tr>\n",
       "      <th>1</th>\n",
       "      <td>but in my heart I know this is the future prom...</td>\n",
       "      <td>neutral</td>\n",
       "      <td>0</td>\n",
       "    </tr>\n",
       "    <tr>\n",
       "      <th>2</th>\n",
       "      <td>I have mylefibrosis which turn to leukemia the...</td>\n",
       "      <td>negative</td>\n",
       "      <td>-1</td>\n",
       "    </tr>\n",
       "    <tr>\n",
       "      <th>3</th>\n",
       "      <td>from one of my health group subject wayne dyer...</td>\n",
       "      <td>neutral</td>\n",
       "      <td>0</td>\n",
       "    </tr>\n",
       "    <tr>\n",
       "      <th>4</th>\n",
       "      <td>gmos now link to leukemia http nsnbc I 2013 07...</td>\n",
       "      <td>neutral</td>\n",
       "      <td>0</td>\n",
       "    </tr>\n",
       "  </tbody>\n",
       "</table>\n",
       "</div>"
      ],
      "text/plain": [
       "                                               posts predicted  intensity\n",
       "0  I know as parent of child with down syndrome t...  negative         -1\n",
       "1  but in my heart I know this is the future prom...   neutral          0\n",
       "2  I have mylefibrosis which turn to leukemia the...  negative         -1\n",
       "3  from one of my health group subject wayne dyer...   neutral          0\n",
       "4  gmos now link to leukemia http nsnbc I 2013 07...   neutral          0"
      ]
     },
     "execution_count": 6,
     "metadata": {},
     "output_type": "execute_result"
    }
   ],
   "source": [
    "data.head()"
   ]
  },
  {
   "cell_type": "raw",
   "id": "10704f75-cce7-47ec-a5c8-63126d7ef016",
   "metadata": {},
   "source": [
    "Data preprocessing"
   ]
  },
  {
   "cell_type": "code",
   "execution_count": 8,
   "id": "72867bb0-c988-4908-8f02-05ffbb908d59",
   "metadata": {},
   "outputs": [
    {
     "data": {
      "text/plain": [
       "(10392, 3)"
      ]
     },
     "execution_count": 8,
     "metadata": {},
     "output_type": "execute_result"
    }
   ],
   "source": [
    "data.shape"
   ]
  },
  {
   "cell_type": "markdown",
   "id": "c690e598-d8cf-4264-917c-9b8b024d06d7",
   "metadata": {},
   "source": [
    "In this data set we have 10392 rows and 3 columns"
   ]
  },
  {
   "cell_type": "code",
   "execution_count": 13,
   "id": "a113df9d-3ba3-4d39-9168-cf2a8263a3cf",
   "metadata": {},
   "outputs": [
    {
     "name": "stdout",
     "output_type": "stream",
     "text": [
      "<class 'pandas.core.frame.DataFrame'>\n",
      "RangeIndex: 10392 entries, 0 to 10391\n",
      "Data columns (total 3 columns):\n",
      " #   Column     Non-Null Count  Dtype \n",
      "---  ------     --------------  ----- \n",
      " 0   posts      10391 non-null  object\n",
      " 1   predicted  10392 non-null  object\n",
      " 2   intensity  10392 non-null  int64 \n",
      "dtypes: int64(1), object(2)\n",
      "memory usage: 243.7+ KB\n"
     ]
    }
   ],
   "source": [
    "data.info()"
   ]
  },
  {
   "cell_type": "markdown",
   "id": "4c7a5026-067a-47d5-9b58-a22ade008821",
   "metadata": {},
   "source": [
    "Here we have two object columns and one numercal column.\n",
    "      object    -----> posts,predicted\n",
    "      numerical -----> intensity"
   ]
  },
  {
   "cell_type": "code",
   "execution_count": 16,
   "id": "3c56c698-f7f4-48fb-80f8-fc9c578655ba",
   "metadata": {},
   "outputs": [
    {
     "data": {
      "text/plain": [
       "posts        1\n",
       "predicted    0\n",
       "intensity    0\n",
       "dtype: int64"
      ]
     },
     "execution_count": 16,
     "metadata": {},
     "output_type": "execute_result"
    }
   ],
   "source": [
    "#check data set have null values\n",
    "data.isnull().sum()"
   ]
  },
  {
   "cell_type": "code",
   "execution_count": 18,
   "id": "a5971ab6-b1a5-49c8-bd6d-593186577bfc",
   "metadata": {},
   "outputs": [
    {
     "data": {
      "image/png": "[encoded data removed]",
      "text/plain": [
       "<Figure size 640x480 with 1 Axes>"
      ]
     },
     "metadata": {},
     "output_type": "display_data"
    }
   ],
   "source": [
    "#plot null values\n",
    "\n",
    "# Step 1: Calculate the count of null values for each column\n",
    "null_counts = data.isnull().sum()\n",
    "\n",
    "# Step 2: Create a DataFrame with these counts\n",
    "null_counts_df = null_counts.reset_index()\n",
    "null_counts_df.columns = ['Column', 'Null_Count']\n",
    "\n",
    "# Step 3: Use seaborn to create a line plot\n",
    "sns.lineplot(data=null_counts_df, x='Column', y='Null_Count', marker='o')\n",
    "\n",
    "# Optional: Adding labels and title\n",
    "plt.xlabel('Columns')\n",
    "plt.ylabel('Count of Null Values')\n",
    "plt.title('Null Value Counts per Column')\n",
    "plt.grid(True)\n",
    "\n",
    "# Show the plot\n",
    "plt.show()"
   ]
  },
  {
   "cell_type": "code",
   "execution_count": 19,
   "id": "8a4c7b26-ff20-4228-a990-01635f56d495",
   "metadata": {},
   "outputs": [
    {
     "data": {
      "text/html": [
       "<div>\n",
       "<style scoped>\n",
       "    .dataframe tbody tr th:only-of-type {\n",
       "        vertical-align: middle;\n",
       "    }\n",
       "\n",
       "    .dataframe tbody tr th {\n",
       "        vertical-align: top;\n",
       "    }\n",
       "\n",
       "    .dataframe thead th {\n",
       "        text-align: right;\n",
       "    }\n",
       "</style>\n",
       "<table border=\"1\" class=\"dataframe\">\n",
       "  <thead>\n",
       "    <tr style=\"text-align: right;\">\n",
       "      <th></th>\n",
       "      <th>posts</th>\n",
       "      <th>predicted</th>\n",
       "      <th>intensity</th>\n",
       "    </tr>\n",
       "  </thead>\n",
       "  <tbody>\n",
       "    <tr>\n",
       "      <th>3979</th>\n",
       "      <td>NaN</td>\n",
       "      <td>neutral</td>\n",
       "      <td>0</td>\n",
       "    </tr>\n",
       "  </tbody>\n",
       "</table>\n",
       "</div>"
      ],
      "text/plain": [
       "     posts predicted  intensity\n",
       "3979   NaN   neutral          0"
      ]
     },
     "execution_count": 19,
     "metadata": {},
     "output_type": "execute_result"
    }
   ],
   "source": [
    "# Find rows with null values\n",
    "rows_with_nulls = data[data.isnull().any(axis=1)]\n",
    "rows_with_nulls"
   ]
  },
  {
   "cell_type": "code",
   "execution_count": 20,
   "id": "2fe1d147-23a2-4123-8d03-244d0fd67577",
   "metadata": {},
   "outputs": [],
   "source": [
    "#remove null value row\n",
    "data = data.drop(3979)"
   ]
  },
  {
   "cell_type": "code",
   "execution_count": 24,
   "id": "93e3eeff-82ba-40af-a3d9-2e9b079cb7e5",
   "metadata": {},
   "outputs": [
    {
     "data": {
      "image/png": "[encoded data removed]",
      "text/plain": [
       "<Figure size 640x480 with 1 Axes>"
      ]
     },
     "metadata": {},
     "output_type": "display_data"
    }
   ],
   "source": [
    "#after the remove null values\n",
    "\n",
    "# Step 1: Calculate the count of null values for each column\n",
    "null_counts = data.isnull().sum()\n",
    "\n",
    "# Step 2: Create a DataFrame with these counts\n",
    "null_counts_df = null_counts.reset_index()\n",
    "null_counts_df.columns = ['Column', 'Null_Count']\n",
    "\n",
    "# Step 3: Use seaborn to create a line plot\n",
    "sns.lineplot(data=null_counts_df, x='Column', y='Null_Count', marker='o')\n",
    "\n",
    "# Optional: Adding labels and title\n",
    "plt.xlabel('Columns')\n",
    "plt.ylabel('Count of Null Values')\n",
    "plt.title('Null Value Counts per Column')\n",
    "plt.grid(True)\n",
    "\n",
    "# Show the plot\n",
    "plt.show()"
   ]
  },
  {
   "cell_type": "code",
   "execution_count": 25,
   "id": "083a1665-bc0f-4f55-9166-6735dbacac1f",
   "metadata": {},
   "outputs": [
    {
     "data": {
      "text/plain": [
       "(10391, 3)"
      ]
     },
     "execution_count": 25,
     "metadata": {},
     "output_type": "execute_result"
    }
   ],
   "source": [
    "#data shape\n",
    "data.shape"
   ]
  },
  {
   "cell_type": "code",
   "execution_count": 26,
   "id": "4a39da83-b645-48ab-aefa-a33216c694cc",
   "metadata": {},
   "outputs": [
    {
     "data": {
      "text/plain": [
       "0"
      ]
     },
     "execution_count": 26,
     "metadata": {},
     "output_type": "execute_result"
    }
   ],
   "source": [
    "#Find dupicate\n",
    "data.duplicated().sum()"
   ]
  },
  {
   "cell_type": "markdown",
   "id": "c5c541ce-69d3-4a10-9baa-cdf7801990ae",
   "metadata": {},
   "source": [
    "In this data set we have not duplicate values"
   ]
  },
  {
   "cell_type": "markdown",
   "id": "04046b8b-1a50-48be-8258-94933253b1ce",
   "metadata": {},
   "source": [
    "Text Preprocessing"
   ]
  },
  {
   "cell_type": "code",
   "execution_count": 32,
   "id": "7e2f4a95-819d-48f9-a48b-77da8f5de443",
   "metadata": {},
   "outputs": [],
   "source": [
    "#import necessaray libraries\n",
    "import re\n",
    "import string"
   ]
  },
  {
   "cell_type": "code",
   "execution_count": 34,
   "id": "d9a171db-0ba8-4dce-9de8-7624a3a9e952",
   "metadata": {},
   "outputs": [],
   "source": [
    "#convert upper case into lower case\n",
    "data['posts'] = data['posts'].str.lower()"
   ]
  },
  {
   "cell_type": "code",
   "execution_count": 36,
   "id": "55ec762a-3fbc-4a5f-8436-04695b3c5a18",
   "metadata": {},
   "outputs": [
    {
     "data": {
      "text/plain": [
       "0      i know as parent of child with down syndrome t...\n",
       "1      but in my heart i know this is the future prom...\n",
       "2      i have mylefibrosis which turn to leukemia the...\n",
       "3      from one of my health group subject wayne dyer...\n",
       "4      gmos now link to leukemia http nsnbc i 2013 07...\n",
       "                             ...                        \n",
       "195    hello my name is holly and i want to share my ...\n",
       "196    i go into a favorite store of mine today and w...\n",
       "197    fry laboratory l l c must have follow the 141 ...\n",
       "198    i just think i would share my short experience...\n",
       "199    i am at 9 1 2 month since lose my husband larr...\n",
       "Name: posts, Length: 200, dtype: object"
      ]
     },
     "execution_count": 36,
     "metadata": {},
     "output_type": "execute_result"
    }
   ],
   "source": [
    "data['posts'].head(200)"
   ]
  },
  {
   "cell_type": "code",
   "execution_count": 38,
   "id": "66fbca87-fa40-4f37-92bf-ba73f765639e",
   "metadata": {},
   "outputs": [],
   "source": [
    "#remove links\n",
    "# Define a regular expression pattern for URLs\n",
    "url_pattern = r'http\\S+|www.\\S+'\n",
    "\n",
    "# Remove URLs using a lambda function\n",
    "data['posts'] = data['posts'].apply(lambda x: re.sub(url_pattern, '', x))\n"
   ]
  },
  {
   "cell_type": "code",
   "execution_count": 40,
   "id": "c1115c17-dacd-4e98-a816-ee8270d28c38",
   "metadata": {},
   "outputs": [
    {
     "data": {
      "text/plain": [
       "0      i know as parent of child with down syndrome t...\n",
       "1      but in my heart i know this is the future prom...\n",
       "2      i have mylefibrosis which turn to leukemia the...\n",
       "3      from one of my health group subject wayne dyer...\n",
       "4      gmos now link to leukemia http nsnbc i 2013 07...\n",
       "                             ...                        \n",
       "195    hello my name is holly and i want to share my ...\n",
       "196    i go into a favorite store of mine today and w...\n",
       "197    fry laboratory l l c must have follow the 141 ...\n",
       "198    i just think i would share my short experience...\n",
       "199    i am at 9 1 2 month since lose my husband larr...\n",
       "Name: posts, Length: 200, dtype: object"
      ]
     },
     "execution_count": 40,
     "metadata": {},
     "output_type": "execute_result"
    }
   ],
   "source": [
    "data['posts'].head(200)"
   ]
  },
  {
   "cell_type": "code",
   "execution_count": 42,
   "id": "df7324c7-1640-4c3a-b419-1d33af2e2079",
   "metadata": {},
   "outputs": [],
   "source": [
    "#remove punctuations\n",
    "# Function to remove punctuations\n",
    "def remove_punctuation(text):\n",
    "    # Define punctuation characters\n",
    "    translator = str.maketrans('', '', string.punctuation)\n",
    "    # Remove punctuations\n",
    "    text = text.translate(translator)\n",
    "    return text\n",
    "\n",
    "# Apply the function using a lambda function\n",
    "data['posts'] = data['posts'].apply(lambda x: remove_punctuation(x))"
   ]
  },
  {
   "cell_type": "code",
   "execution_count": 44,
   "id": "bd095676-a634-48f4-9335-aae54c495103",
   "metadata": {},
   "outputs": [
    {
     "data": {
      "text/plain": [
       "0    i know as parent of child with down syndrome t...\n",
       "1    but in my heart i know this is the future prom...\n",
       "2    i have mylefibrosis which turn to leukemia the...\n",
       "3    from one of my health group subject wayne dyer...\n",
       "4    gmos now link to leukemia http nsnbc i 2013 07...\n",
       "Name: posts, dtype: object"
      ]
     },
     "execution_count": 44,
     "metadata": {},
     "output_type": "execute_result"
    }
   ],
   "source": [
    "data['posts'].head()"
   ]
  },
  {
   "cell_type": "code",
   "execution_count": 46,
   "id": "55771f00-3506-40b2-8970-921b91d28f55",
   "metadata": {},
   "outputs": [],
   "source": [
    "#remove numbers in data set \n",
    "# Function to remove numbers using regex\n",
    "def remove_numbers(text):\n",
    "    text = re.sub(r'\\d+', '', text)  # \\d+ matches one or more digits\n",
    "    text = re.sub(r'\\s+', ' ', text.strip())\n",
    "    return text\n",
    "\n",
    "# Apply the function using a lambda function\n",
    "data['posts'] = data['posts'].apply(lambda x: remove_numbers(x))"
   ]
  },
  {
   "cell_type": "code",
   "execution_count": 47,
   "id": "ec9b41aa-0e6a-4467-87b6-25b9805eb655",
   "metadata": {},
   "outputs": [
    {
     "data": {
      "text/plain": [
       "0      i know as parent of child with down syndrome t...\n",
       "1      but in my heart i know this is the future prom...\n",
       "2      i have mylefibrosis which turn to leukemia the...\n",
       "3      from one of my health group subject wayne dyer...\n",
       "4      gmos now link to leukemia http nsnbc i gmo now...\n",
       "                             ...                        \n",
       "195    hello my name is holly and i want to share my ...\n",
       "196    i go into a favorite store of mine today and w...\n",
       "197    fry laboratory l l c must have follow the inte...\n",
       "198    i just think i would share my short experience...\n",
       "199    i am at month since lose my husband larry to l...\n",
       "Name: posts, Length: 200, dtype: object"
      ]
     },
     "execution_count": 47,
     "metadata": {},
     "output_type": "execute_result"
    }
   ],
   "source": [
    "data['posts'].head(200)"
   ]
  },
  {
   "cell_type": "code",
   "execution_count": 48,
   "id": "e17b7939-e348-49f9-ace8-61fd0ba28def",
   "metadata": {},
   "outputs": [
    {
     "name": "stdout",
     "output_type": "stream",
     "text": [
      "Requirement already satisfied: nltk in c:\\users\\kmn it\\anaconda3\\lib\\site-packages (3.8.1)\n",
      "Requirement already satisfied: click in c:\\users\\kmn it\\anaconda3\\lib\\site-packages (from nltk) (8.1.7)\n",
      "Requirement already satisfied: joblib in c:\\users\\kmn it\\anaconda3\\lib\\site-packages (from nltk) (1.4.2)\n",
      "Requirement already satisfied: regex>=2021.8.3 in c:\\users\\kmn it\\anaconda3\\lib\\site-packages (from nltk) (2023.10.3)\n",
      "Requirement already satisfied: tqdm in c:\\users\\kmn it\\anaconda3\\lib\\site-packages (from nltk) (4.66.4)\n",
      "Requirement already satisfied: colorama in c:\\users\\kmn it\\anaconda3\\lib\\site-packages (from click->nltk) (0.4.6)\n"
     ]
    }
   ],
   "source": [
    "#remove stop words\n",
    "!pip install nltk"
   ]
  },
  {
   "cell_type": "code",
   "execution_count": 49,
   "id": "6550bf86-356a-471e-8602-72b78788093b",
   "metadata": {},
   "outputs": [],
   "source": [
    "import nltk"
   ]
  },
  {
   "cell_type": "code",
   "execution_count": 50,
   "id": "3099cb64-8090-4925-b874-4fe7f63da987",
   "metadata": {},
   "outputs": [
    {
     "name": "stderr",
     "output_type": "stream",
     "text": [
      "[nltk_data] Downloading package stopwords to ./stop words...\n",
      "[nltk_data]   Unzipping corpora\\stopwords.zip.\n"
     ]
    },
    {
     "data": {
      "text/plain": [
       "True"
      ]
     },
     "execution_count": 50,
     "metadata": {},
     "output_type": "execute_result"
    }
   ],
   "source": [
    "#download all languages stop words\n",
    "nltk.download('stopwords',download_dir = './stop words')"
   ]
  },
  {
   "cell_type": "code",
   "execution_count": 53,
   "id": "aaa71a0d-260d-487e-bb8f-29599c17948b",
   "metadata": {},
   "outputs": [],
   "source": [
    "#Open only English language stop words \n",
    "with open('./stop words/corpora/stopwords/english','r') as file:\n",
    "    sw = file.read().splitlines()"
   ]
  },
  {
   "cell_type": "code",
   "execution_count": 54,
   "id": "00141a93-87a7-4ab9-9f75-cf9107a087d4",
   "metadata": {},
   "outputs": [
    {
     "data": {
      "text/plain": [
       "['i',\n",
       " 'me',\n",
       " 'my',\n",
       " 'myself',\n",
       " 'we',\n",
       " 'our',\n",
       " 'ours',\n",
       " 'ourselves',\n",
       " 'you',\n",
       " \"you're\",\n",
       " \"you've\",\n",
       " \"you'll\",\n",
       " \"you'd\",\n",
       " 'your',\n",
       " 'yours',\n",
       " 'yourself',\n",
       " 'yourselves',\n",
       " 'he',\n",
       " 'him',\n",
       " 'his',\n",
       " 'himself',\n",
       " 'she',\n",
       " \"she's\",\n",
       " 'her',\n",
       " 'hers',\n",
       " 'herself',\n",
       " 'it',\n",
       " \"it's\",\n",
       " 'its',\n",
       " 'itself',\n",
       " 'they',\n",
       " 'them',\n",
       " 'their',\n",
       " 'theirs',\n",
       " 'themselves',\n",
       " 'what',\n",
       " 'which',\n",
       " 'who',\n",
       " 'whom',\n",
       " 'this',\n",
       " 'that',\n",
       " \"that'll\",\n",
       " 'these',\n",
       " 'those',\n",
       " 'am',\n",
       " 'is',\n",
       " 'are',\n",
       " 'was',\n",
       " 'were',\n",
       " 'be',\n",
       " 'been',\n",
       " 'being',\n",
       " 'have',\n",
       " 'has',\n",
       " 'had',\n",
       " 'having',\n",
       " 'do',\n",
       " 'does',\n",
       " 'did',\n",
       " 'doing',\n",
       " 'a',\n",
       " 'an',\n",
       " 'the',\n",
       " 'and',\n",
       " 'but',\n",
       " 'if',\n",
       " 'or',\n",
       " 'because',\n",
       " 'as',\n",
       " 'until',\n",
       " 'while',\n",
       " 'of',\n",
       " 'at',\n",
       " 'by',\n",
       " 'for',\n",
       " 'with',\n",
       " 'about',\n",
       " 'against',\n",
       " 'between',\n",
       " 'into',\n",
       " 'through',\n",
       " 'during',\n",
       " 'before',\n",
       " 'after',\n",
       " 'above',\n",
       " 'below',\n",
       " 'to',\n",
       " 'from',\n",
       " 'up',\n",
       " 'down',\n",
       " 'in',\n",
       " 'out',\n",
       " 'on',\n",
       " 'off',\n",
       " 'over',\n",
       " 'under',\n",
       " 'again',\n",
       " 'further',\n",
       " 'then',\n",
       " 'once',\n",
       " 'here',\n",
       " 'there',\n",
       " 'when',\n",
       " 'where',\n",
       " 'why',\n",
       " 'how',\n",
       " 'all',\n",
       " 'any',\n",
       " 'both',\n",
       " 'each',\n",
       " 'few',\n",
       " 'more',\n",
       " 'most',\n",
       " 'other',\n",
       " 'some',\n",
       " 'such',\n",
       " 'no',\n",
       " 'nor',\n",
       " 'not',\n",
       " 'only',\n",
       " 'own',\n",
       " 'same',\n",
       " 'so',\n",
       " 'than',\n",
       " 'too',\n",
       " 'very',\n",
       " 's',\n",
       " 't',\n",
       " 'can',\n",
       " 'will',\n",
       " 'just',\n",
       " 'don',\n",
       " \"don't\",\n",
       " 'should',\n",
       " \"should've\",\n",
       " 'now',\n",
       " 'd',\n",
       " 'll',\n",
       " 'm',\n",
       " 'o',\n",
       " 're',\n",
       " 've',\n",
       " 'y',\n",
       " 'ain',\n",
       " 'aren',\n",
       " \"aren't\",\n",
       " 'couldn',\n",
       " \"couldn't\",\n",
       " 'didn',\n",
       " \"didn't\",\n",
       " 'doesn',\n",
       " \"doesn't\",\n",
       " 'hadn',\n",
       " \"hadn't\",\n",
       " 'hasn',\n",
       " \"hasn't\",\n",
       " 'haven',\n",
       " \"haven't\",\n",
       " 'isn',\n",
       " \"isn't\",\n",
       " 'ma',\n",
       " 'mightn',\n",
       " \"mightn't\",\n",
       " 'mustn',\n",
       " \"mustn't\",\n",
       " 'needn',\n",
       " \"needn't\",\n",
       " 'shan',\n",
       " \"shan't\",\n",
       " 'shouldn',\n",
       " \"shouldn't\",\n",
       " 'wasn',\n",
       " \"wasn't\",\n",
       " 'weren',\n",
       " \"weren't\",\n",
       " 'won',\n",
       " \"won't\",\n",
       " 'wouldn',\n",
       " \"wouldn't\"]"
      ]
     },
     "execution_count": 54,
     "metadata": {},
     "output_type": "execute_result"
    }
   ],
   "source": [
    "sw"
   ]
  },
  {
   "cell_type": "code",
   "execution_count": 55,
   "id": "5ef549da-3cb6-4c4e-a034-6914d576e02a",
   "metadata": {},
   "outputs": [],
   "source": [
    "#Function to remove stopwords\n",
    "def remove_stopwords(text):\n",
    "    tokens = text.split()  # Split text into tokens\n",
    "    filtered_tokens = [word for word in tokens if word.lower() not in sw]  # Remove stopwords\n",
    "    return ' '.join(filtered_tokens)  # Join tokens back into a string\n",
    "\n",
    "# Apply the function using a lambda function\n",
    "data['posts'] = data['posts'].apply(lambda x: remove_stopwords(x))"
   ]
  },
  {
   "cell_type": "code",
   "execution_count": 56,
   "id": "e0fc9cf4-f77a-4629-b47d-b2b06375bd13",
   "metadata": {},
   "outputs": [
    {
     "data": {
      "text/plain": [
       "0      know parent child syndrome hear child high ris...\n",
       "1      heart know future promise article regardless h...\n",
       "2      mylefibrosis turn leukemia want stem cell tran...\n",
       "3      one health group subject wayne dyer leukemia c...\n",
       "4      gmos link leukemia http nsnbc gmo link leukemi...\n",
       "                             ...                        \n",
       "195    hello name holly want share father story janua...\n",
       "196    go favorite store mine today talk lady ring pu...\n",
       "197    fry laboratory l l c must follow international...\n",
       "198    think would share short experience find cml ma...\n",
       "199    month since lose husband larry leukemia spend ...\n",
       "Name: posts, Length: 200, dtype: object"
      ]
     },
     "execution_count": 56,
     "metadata": {},
     "output_type": "execute_result"
    }
   ],
   "source": [
    "data['posts'].head(200)"
   ]
  },
  {
   "cell_type": "code",
   "execution_count": 57,
   "id": "27954a7a-d766-494b-9eec-248599f1e4d0",
   "metadata": {},
   "outputs": [],
   "source": [
    "#stemming\n",
    "from nltk.stem import PorterStemmer\n",
    "ps = PorterStemmer()"
   ]
  },
  {
   "cell_type": "code",
   "execution_count": 58,
   "id": "ad3ef977-d90e-4975-a45a-28a8becb3f2f",
   "metadata": {},
   "outputs": [],
   "source": [
    "data['posts'] = data['posts'].apply(lambda x:\" \" .join(ps.stem(x) for x in x.split()))"
   ]
  },
  {
   "cell_type": "code",
   "execution_count": 59,
   "id": "e93d4389-a3b8-450f-b635-8b2a06c6af2b",
   "metadata": {},
   "outputs": [
    {
     "data": {
      "text/plain": [
       "0      know parent child syndrom hear child high risk...\n",
       "1      heart know futur promis articl regardless http...\n",
       "2      mylefibrosi turn leukemia want stem cell trans...\n",
       "3      one health group subject wayn dyer leukemia ca...\n",
       "4      gmo link leukemia http nsnbc gmo link leukemia...\n",
       "                             ...                        \n",
       "195    hello name holli want share father stori janua...\n",
       "196    go favorit store mine today talk ladi ring pur...\n",
       "197    fri laboratori l l c must follow intern intele...\n",
       "198    think would share short experi find cml mayb l...\n",
       "199    month sinc lose husband larri leukemia spend m...\n",
       "Name: posts, Length: 200, dtype: object"
      ]
     },
     "execution_count": 59,
     "metadata": {},
     "output_type": "execute_result"
    }
   ],
   "source": [
    "data['posts'].head(200)"
   ]
  },
  {
   "cell_type": "markdown",
   "id": "c4052010-ed1c-4fa2-899f-43e477cc6281",
   "metadata": {},
   "source": [
    "Building Vacabulary"
   ]
  },
  {
   "cell_type": "code",
   "execution_count": 61,
   "id": "6aa07795-bbc8-4359-9790-bfea230a24b8",
   "metadata": {},
   "outputs": [],
   "source": [
    "from collections import Counter\n",
    "vocab = Counter()"
   ]
  },
  {
   "cell_type": "code",
   "execution_count": 62,
   "id": "97c37065-7a52-453a-8128-c5b4f703bdac",
   "metadata": {},
   "outputs": [],
   "source": [
    "#find count of unique words in data set\n",
    "for post in data['posts']:\n",
    "    vocab.update(post.split())"
   ]
  },
  {
   "cell_type": "code",
   "execution_count": 63,
   "id": "b19c8b76-b7f0-468b-a831-34c7d95caedd",
   "metadata": {},
   "outputs": [
    {
     "data": {
      "text/plain": [
       "Counter({'cancer': 16634,\n",
       "         'go': 11408,\n",
       "         'get': 10158,\n",
       "         'liver': 10019,\n",
       "         'year': 8829,\n",
       "         'know': 8531,\n",
       "         'say': 7861,\n",
       "         'would': 7318,\n",
       "         'time': 6919,\n",
       "         'like': 6480,\n",
       "         'feel': 6346,\n",
       "         'day': 6091,\n",
       "         'one': 6020,\n",
       "         'take': 6006,\n",
       "         'lung': 5935,\n",
       "         'think': 5369,\n",
       "         'find': 5313,\n",
       "         'week': 5260,\n",
       "         'tell': 5223,\n",
       "         'pain': 5096,\n",
       "         'doctor': 5027,\n",
       "         'month': 4924,\n",
       "         'also': 4786,\n",
       "         'well': 4733,\n",
       "         'see': 4712,\n",
       "         'help': 4661,\n",
       "         'blood': 4627,\n",
       "         'want': 4581,\n",
       "         'back': 4366,\n",
       "         'could': 4311,\n",
       "         'make': 4033,\n",
       "         'good': 3989,\n",
       "         'treatment': 3786,\n",
       "         'come': 3785,\n",
       "         'last': 3767,\n",
       "         'test': 3667,\n",
       "         'diseas': 3610,\n",
       "         'need': 3465,\n",
       "         'start': 3463,\n",
       "         'life': 3448,\n",
       "         'anyon': 3415,\n",
       "         'much': 3331,\n",
       "         'thank': 3325,\n",
       "         'realli': 3299,\n",
       "         'ago': 3205,\n",
       "         'thing': 3150,\n",
       "         'still': 3139,\n",
       "         'peopl': 3131,\n",
       "         'may': 3123,\n",
       "         'work': 3064,\n",
       "         'even': 3058,\n",
       "         'bad': 3024,\n",
       "         'give': 2966,\n",
       "         'patient': 2955,\n",
       "         'caus': 2906,\n",
       "         'right': 2900,\n",
       "         'use': 2888,\n",
       "         'colon': 2834,\n",
       "         'die': 2798,\n",
       "         'sinc': 2744,\n",
       "         'long': 2743,\n",
       "         'tri': 2735,\n",
       "         'diagnos': 2713,\n",
       "         'chemo': 2599,\n",
       "         'look': 2536,\n",
       "         'two': 2519,\n",
       "         'hepat': 2497,\n",
       "         'first': 2496,\n",
       "         'new': 2496,\n",
       "         'old': 2482,\n",
       "         'surgeri': 2442,\n",
       "         'cell': 2436,\n",
       "         'brain': 2423,\n",
       "         'c': 2400,\n",
       "         'scan': 2381,\n",
       "         'lose': 2374,\n",
       "         'famili': 2342,\n",
       "         'never': 2339,\n",
       "         'mani': 2301,\n",
       "         'mom': 2275,\n",
       "         'symptom': 2259,\n",
       "         'show': 2251,\n",
       "         'call': 2218,\n",
       "         'stage': 2202,\n",
       "         'live': 2169,\n",
       "         'normal': 2147,\n",
       "         'hope': 2124,\n",
       "         'friend': 2086,\n",
       "         'hospit': 2085,\n",
       "         'result': 2076,\n",
       "         'problem': 2074,\n",
       "         'dr': 2055,\n",
       "         'health': 2051,\n",
       "         'studi': 2023,\n",
       "         'tumor': 1988,\n",
       "         'someth': 1964,\n",
       "         'husband': 1941,\n",
       "         'way': 1939,\n",
       "         'love': 1915,\n",
       "         'seem': 1910,\n",
       "         'today': 1887,\n",
       "         'dad': 1882,\n",
       "         'ask': 1876,\n",
       "         'smoke': 1870,\n",
       "         'keep': 1864,\n",
       "         'infect': 1864,\n",
       "         'pleas': 1859,\n",
       "         'away': 1859,\n",
       "         'read': 1852,\n",
       "         'research': 1850,\n",
       "         'bodi': 1837,\n",
       "         'medic': 1796,\n",
       "         'everi': 1791,\n",
       "         'high': 1786,\n",
       "         'anoth': 1782,\n",
       "         'drug': 1762,\n",
       "         'side': 1753,\n",
       "         'heart': 1745,\n",
       "         'effect': 1738,\n",
       "         'care': 1707,\n",
       "         'viru': 1700,\n",
       "         'low': 1681,\n",
       "         'home': 1663,\n",
       "         'worri': 1661,\n",
       "         'littl': 1626,\n",
       "         'eat': 1626,\n",
       "         'remov': 1620,\n",
       "         'hard': 1615,\n",
       "         'experi': 1609,\n",
       "         'drink': 1605,\n",
       "         'anyth': 1602,\n",
       "         'ct': 1596,\n",
       "         'sure': 1594,\n",
       "         'leav': 1583,\n",
       "         'lot': 1568,\n",
       "         'sever': 1560,\n",
       "         'mother': 1557,\n",
       "         'alway': 1539,\n",
       "         'leukemia': 1525,\n",
       "         'support': 1518,\n",
       "         'biopsi': 1513,\n",
       "         'pass': 1505,\n",
       "         'everyon': 1486,\n",
       "         'put': 1481,\n",
       "         'post': 1473,\n",
       "         'risk': 1463,\n",
       "         'talk': 1446,\n",
       "         'happen': 1437,\n",
       "         'next': 1424,\n",
       "         'small': 1422,\n",
       "         'stool': 1419,\n",
       "         'possibl': 1413,\n",
       "         'hi': 1412,\n",
       "         'wonder': 1395,\n",
       "         'around': 1374,\n",
       "         'question': 1368,\n",
       "         'hear': 1344,\n",
       "         'level': 1339,\n",
       "         'stop': 1337,\n",
       "         'recent': 1332,\n",
       "         'transplant': 1329,\n",
       "         'els': 1322,\n",
       "         'alcohol': 1316,\n",
       "         'scare': 1313,\n",
       "         'past': 1310,\n",
       "         'person': 1306,\n",
       "         'develop': 1282,\n",
       "         'end': 1282,\n",
       "         'noth': 1268,\n",
       "         'due': 1231,\n",
       "         'quit': 1228,\n",
       "         'differ': 1226,\n",
       "         'father': 1217,\n",
       "         'colonoscopi': 1215,\n",
       "         'chang': 1211,\n",
       "         'wait': 1208,\n",
       "         'ever': 1207,\n",
       "         'chronic': 1206,\n",
       "         'mean': 1206,\n",
       "         'everyth': 1204,\n",
       "         'abl': 1202,\n",
       "         'someon': 1197,\n",
       "         'http': 1192,\n",
       "         'night': 1186,\n",
       "         'inform': 1181,\n",
       "         'issu': 1174,\n",
       "         'includ': 1171,\n",
       "         'increas': 1163,\n",
       "         'god': 1138,\n",
       "         'type': 1134,\n",
       "         'group': 1130,\n",
       "         'follow': 1123,\n",
       "         'without': 1123,\n",
       "         'radiat': 1123,\n",
       "         'great': 1122,\n",
       "         'treat': 1122,\n",
       "         'food': 1117,\n",
       "         'chest': 1115,\n",
       "         'later': 1111,\n",
       "         'miss': 1111,\n",
       "         'though': 1092,\n",
       "         'let': 1089,\n",
       "         'understand': 1083,\n",
       "         'age': 1070,\n",
       "         'child': 1063,\n",
       "         'almost': 1055,\n",
       "         'com': 1052,\n",
       "         'believ': 1044,\n",
       "         'three': 1044,\n",
       "         'might': 1042,\n",
       "         'part': 1037,\n",
       "         'death': 1035,\n",
       "         'send': 1030,\n",
       "         'hour': 1030,\n",
       "         'sister': 1030,\n",
       "         'sometim': 1029,\n",
       "         'becom': 1026,\n",
       "         'sick': 1019,\n",
       "         'spread': 1014,\n",
       "         'earli': 1012,\n",
       "         'damag': 1007,\n",
       "         'breath': 1006,\n",
       "         'cirrhosi': 1001,\n",
       "         'begin': 999,\n",
       "         'deal': 996,\n",
       "         'howev': 994,\n",
       "         'point': 990,\n",
       "         'concern': 969,\n",
       "         'check': 964,\n",
       "         'th': 959,\n",
       "         'share': 958,\n",
       "         'move': 954,\n",
       "         'report': 947,\n",
       "         'advic': 945,\n",
       "         'suffer': 943,\n",
       "         'breast': 940,\n",
       "         'turn': 939,\n",
       "         'yet': 935,\n",
       "         'suggest': 928,\n",
       "         'appreci': 926,\n",
       "         'ill': 920,\n",
       "         'mayb': 920,\n",
       "         'posit': 919,\n",
       "         'news': 918,\n",
       "         'sleep': 914,\n",
       "         'case': 913,\n",
       "         'doc': 910,\n",
       "         'weight': 909,\n",
       "         'fight': 894,\n",
       "         'coupl': 888,\n",
       "         'bone': 885,\n",
       "         'morn': 883,\n",
       "         'enough': 882,\n",
       "         'bowel': 882,\n",
       "         'left': 880,\n",
       "         'far': 879,\n",
       "         'diagnosi': 878,\n",
       "         'vitamin': 877,\n",
       "         'complet': 873,\n",
       "         'stomach': 870,\n",
       "         'stay': 869,\n",
       "         'state': 865,\n",
       "         'final': 863,\n",
       "         'kidney': 858,\n",
       "         'kind': 845,\n",
       "         'late': 837,\n",
       "         'close': 833,\n",
       "         'lead': 833,\n",
       "         'therapi': 831,\n",
       "         'system': 831,\n",
       "         'healthi': 828,\n",
       "         'receiv': 825,\n",
       "         'brother': 825,\n",
       "         'area': 821,\n",
       "         'hurt': 817,\n",
       "         'expect': 817,\n",
       "         'function': 815,\n",
       "         'alreadi': 806,\n",
       "         'b': 805,\n",
       "         'x': 802,\n",
       "         'grow': 801,\n",
       "         'larg': 800,\n",
       "         'depress': 799,\n",
       "         'daughter': 795,\n",
       "         'clinic': 789,\n",
       "         'pretti': 786,\n",
       "         'son': 785,\n",
       "         'prevent': 783,\n",
       "         'anxieti': 780,\n",
       "         'yesterday': 780,\n",
       "         'big': 779,\n",
       "         'stori': 775,\n",
       "         'relat': 772,\n",
       "         'non': 767,\n",
       "         'hcv': 763,\n",
       "         'thought': 757,\n",
       "         'man': 755,\n",
       "         'probabl': 751,\n",
       "         'current': 751,\n",
       "         'condit': 749,\n",
       "         'meet': 748,\n",
       "         'head': 748,\n",
       "         'usual': 748,\n",
       "         'loss': 747,\n",
       "         'notic': 744,\n",
       "         'continu': 743,\n",
       "         'woman': 743,\n",
       "         'least': 743,\n",
       "         'hello': 740,\n",
       "         'bleed': 740,\n",
       "         'xmrv': 739,\n",
       "         'reason': 733,\n",
       "         'clear': 731,\n",
       "         'diet': 730,\n",
       "         'guess': 728,\n",
       "         'cri': 727,\n",
       "         'less': 727,\n",
       "         'second': 722,\n",
       "         'place': 717,\n",
       "         'activ': 716,\n",
       "         'stress': 713,\n",
       "         'daili': 712,\n",
       "         'reduc': 712,\n",
       "         'cough': 709,\n",
       "         'bit': 706,\n",
       "         'control': 705,\n",
       "         'water': 703,\n",
       "         'answer': 703,\n",
       "         'med': 700,\n",
       "         'smoker': 697,\n",
       "         'associ': 692,\n",
       "         'walk': 691,\n",
       "         'actual': 689,\n",
       "         'fine': 689,\n",
       "         'soon': 687,\n",
       "         'strong': 681,\n",
       "         'anyway': 681,\n",
       "         'chanc': 680,\n",
       "         'nodul': 679,\n",
       "         'yr': 676,\n",
       "         'organ': 675,\n",
       "         'young': 670,\n",
       "         'medicin': 669,\n",
       "         'sorri': 667,\n",
       "         'togeth': 667,\n",
       "         'fatigu': 662,\n",
       "         'number': 660,\n",
       "         'free': 660,\n",
       "         'short': 658,\n",
       "         'cours': 658,\n",
       "         'mind': 656,\n",
       "         'break': 656,\n",
       "         'immun': 654,\n",
       "         'half': 653,\n",
       "         'center': 651,\n",
       "         'advanc': 649,\n",
       "         'enzym': 649,\n",
       "         'run': 646,\n",
       "         'red': 645,\n",
       "         'wife': 644,\n",
       "         'wish': 640,\n",
       "         'node': 637,\n",
       "         'oncologist': 636,\n",
       "         'improv': 635,\n",
       "         'often': 635,\n",
       "         'watch': 634,\n",
       "         'visit': 630,\n",
       "         'decid': 629,\n",
       "         'prayer': 629,\n",
       "         'ok': 626,\n",
       "         'rememb': 626,\n",
       "         'sign': 621,\n",
       "         'name': 621,\n",
       "         'although': 620,\n",
       "         'surgeon': 619,\n",
       "         'happi': 618,\n",
       "         'hand': 618,\n",
       "         'full': 615,\n",
       "         'idea': 615,\n",
       "         'form': 614,\n",
       "         'cure': 612,\n",
       "         'lymph': 612,\n",
       "         'mass': 612,\n",
       "         'recommend': 608,\n",
       "         'plan': 607,\n",
       "         'kid': 606,\n",
       "         'order': 605,\n",
       "         'pray': 604,\n",
       "         'site': 604,\n",
       "         'learn': 602,\n",
       "         'either': 602,\n",
       "         'alon': 599,\n",
       "         'fact': 598,\n",
       "         'process': 593,\n",
       "         'write': 592,\n",
       "         'viral': 592,\n",
       "         'wrong': 592,\n",
       "         'sit': 590,\n",
       "         'skin': 590,\n",
       "         'whole': 590,\n",
       "         'world': 589,\n",
       "         'spot': 584,\n",
       "         'gener': 580,\n",
       "         'attack': 578,\n",
       "         'parent': 577,\n",
       "         'hous': 571,\n",
       "         'affect': 571,\n",
       "         'tissu': 571,\n",
       "         'schedul': 567,\n",
       "         'respons': 566,\n",
       "         'polyp': 564,\n",
       "         'within': 562,\n",
       "         'appoint': 562,\n",
       "         'kill': 560,\n",
       "         'nurs': 559,\n",
       "         'import': 558,\n",
       "         'diabet': 558,\n",
       "         'word': 554,\n",
       "         'link': 554,\n",
       "         'ray': 550,\n",
       "         'bring': 549,\n",
       "         'spend': 547,\n",
       "         'acid': 543,\n",
       "         'syndrom': 542,\n",
       "         'surviv': 539,\n",
       "         'similar': 539,\n",
       "         'rate': 536,\n",
       "         'sound': 532,\n",
       "         'along': 532,\n",
       "         'eye': 531,\n",
       "         'size': 531,\n",
       "         'guy': 529,\n",
       "         'face': 529,\n",
       "         'human': 527,\n",
       "         'univers': 526,\n",
       "         'product': 525,\n",
       "         'progress': 525,\n",
       "         'trial': 524,\n",
       "         'amount': 523,\n",
       "         'fluid': 520,\n",
       "         'add': 520,\n",
       "         'cm': 517,\n",
       "         'fast': 513,\n",
       "         'histori': 513,\n",
       "         'hold': 512,\n",
       "         'appear': 511,\n",
       "         'tire': 510,\n",
       "         'common': 507,\n",
       "         'hep': 505,\n",
       "         'job': 504,\n",
       "         'whether': 498,\n",
       "         'fear': 496,\n",
       "         'mri': 496,\n",
       "         'major': 495,\n",
       "         'especi': 495,\n",
       "         'pet': 491,\n",
       "         'count': 489,\n",
       "         'total': 488,\n",
       "         'real': 487,\n",
       "         'sad': 486,\n",
       "         'mg': 486,\n",
       "         'million': 485,\n",
       "         'tomorrow': 485,\n",
       "         'anymor': 484,\n",
       "         'chemotherapi': 483,\n",
       "         'extrem': 483,\n",
       "         'seriou': 483,\n",
       "         'neg': 483,\n",
       "         'supplement': 483,\n",
       "         'list': 482,\n",
       "         'heal': 481,\n",
       "         'dose': 481,\n",
       "         'fall': 480,\n",
       "         'percent': 479,\n",
       "         'provid': 478,\n",
       "         'four': 478,\n",
       "         'natur': 476,\n",
       "         'juli': 475,\n",
       "         'must': 475,\n",
       "         'pressur': 474,\n",
       "         'fatti': 474,\n",
       "         'consid': 473,\n",
       "         'upper': 473,\n",
       "         'articl': 472,\n",
       "         'present': 472,\n",
       "         'battl': 471,\n",
       "         'minut': 469,\n",
       "         'ia': 467,\n",
       "         'physic': 466,\n",
       "         'procedur': 466,\n",
       "         'info': 465,\n",
       "         'bed': 462,\n",
       "         'school': 461,\n",
       "         'addit': 455,\n",
       "         'fat': 455,\n",
       "         'wake': 453,\n",
       "         'e': 451,\n",
       "         'er': 449,\n",
       "         'emot': 448,\n",
       "         'explain': 447,\n",
       "         'leg': 447,\n",
       "         'situat': 446,\n",
       "         'white': 442,\n",
       "         'per': 442,\n",
       "         'mention': 442,\n",
       "         'complic': 442,\n",
       "         'ultrasound': 441,\n",
       "         'memori': 440,\n",
       "         'protein': 439,\n",
       "         'benefit': 438,\n",
       "         'failur': 437,\n",
       "         'step': 436,\n",
       "         'bless': 436,\n",
       "         'option': 434,\n",
       "         'protect': 434,\n",
       "         'period': 433,\n",
       "         'pill': 433,\n",
       "         'weak': 432,\n",
       "         'stuff': 432,\n",
       "         'specialist': 432,\n",
       "         'american': 431,\n",
       "         'term': 431,\n",
       "         'rest': 428,\n",
       "         'round': 427,\n",
       "         'room': 426,\n",
       "         'member': 426,\n",
       "         'disord': 424,\n",
       "         'light': 424,\n",
       "         'elev': 424,\n",
       "         'drive': 421,\n",
       "         'nation': 417,\n",
       "         'return': 417,\n",
       "         'contact': 417,\n",
       "         'easi': 416,\n",
       "         'speak': 413,\n",
       "         'allow': 412,\n",
       "         'abdomin': 412,\n",
       "         'indic': 411,\n",
       "         'manag': 409,\n",
       "         'monday': 409,\n",
       "         'alot': 408,\n",
       "         'inflamm': 406,\n",
       "         'open': 405,\n",
       "         'hate': 405,\n",
       "         'listen': 405,\n",
       "         'movement': 404,\n",
       "         'scar': 403,\n",
       "         'board': 402,\n",
       "         'interest': 401,\n",
       "         'base': 401,\n",
       "         'rare': 401,\n",
       "         'determin': 400,\n",
       "         'marri': 399,\n",
       "         'produc': 399,\n",
       "         'difficult': 399,\n",
       "         'babi': 398,\n",
       "         'march': 397,\n",
       "         'april': 397,\n",
       "         'top': 394,\n",
       "         'iron': 391,\n",
       "         'januari': 390,\n",
       "         'muscl': 390,\n",
       "         'pay': 389,\n",
       "         'milk': 389,\n",
       "         'offer': 388,\n",
       "         'involv': 387,\n",
       "         'realiz': 387,\n",
       "         'discuss': 386,\n",
       "         'detect': 386,\n",
       "         'insur': 384,\n",
       "         'photo': 381,\n",
       "         'line': 381,\n",
       "         'occur': 381,\n",
       "         'potenti': 377,\n",
       "         'june': 377,\n",
       "         'except': 375,\n",
       "         'cat': 375,\n",
       "         'cut': 375,\n",
       "         'figur': 372,\n",
       "         'factor': 372,\n",
       "         'set': 371,\n",
       "         'multipl': 370,\n",
       "         'iv': 370,\n",
       "         'refer': 369,\n",
       "         'rais': 369,\n",
       "         'opinion': 367,\n",
       "         'note': 367,\n",
       "         'remain': 367,\n",
       "         'primari': 367,\n",
       "         'contain': 366,\n",
       "         'friday': 365,\n",
       "         'afraid': 365,\n",
       "         'gi': 365,\n",
       "         'accord': 364,\n",
       "         'clean': 364,\n",
       "         'struggl': 364,\n",
       "         'ye': 361,\n",
       "         'pound': 359,\n",
       "         'phone': 358,\n",
       "         'suppos': 358,\n",
       "         'cf': 356,\n",
       "         'confus': 356,\n",
       "         'diarrhea': 356,\n",
       "         'mm': 355,\n",
       "         'constip': 354,\n",
       "         'avoid': 353,\n",
       "         'rectal': 353,\n",
       "         'relationship': 351,\n",
       "         'throat': 351,\n",
       "         'six': 351,\n",
       "         'drop': 350,\n",
       "         'play': 349,\n",
       "         'prostat': 349,\n",
       "         'anti': 349,\n",
       "         'neck': 347,\n",
       "         'awar': 345,\n",
       "         'certain': 344,\n",
       "         'offic': 344,\n",
       "         'horribl': 344,\n",
       "         'mental': 342,\n",
       "         'immedi': 342,\n",
       "         'entir': 341,\n",
       "         'thin': 341,\n",
       "         'success': 340,\n",
       "         'fibrosi': 340,\n",
       "         'sugar': 340,\n",
       "         'specif': 339,\n",
       "         'genet': 339,\n",
       "         'girl': 339,\n",
       "         'mine': 339,\n",
       "         'lobe': 339,\n",
       "         'termin': 337,\n",
       "         'unit': 336,\n",
       "         'energi': 336,\n",
       "         'laugh': 336,\n",
       "         'matter': 334,\n",
       "         'program': 333,\n",
       "         'remiss': 333,\n",
       "         'oh': 333,\n",
       "         'five': 332,\n",
       "         'shock': 332,\n",
       "         'midday': 330,\n",
       "         'combin': 330,\n",
       "         'handl': 329,\n",
       "         'octob': 329,\n",
       "         'rang': 329,\n",
       "         'instead': 329,\n",
       "         'actor': 329,\n",
       "         'forward': 328,\n",
       "         'onlin': 328,\n",
       "         'hospic': 328,\n",
       "         'comfort': 328,\n",
       "         'org': 327,\n",
       "         'crazi': 327,\n",
       "         'join': 326,\n",
       "         'toilet': 326,\n",
       "         'heavi': 324,\n",
       "         'plu': 324,\n",
       "         'paper': 324,\n",
       "         'lab': 323,\n",
       "         'insid': 323,\n",
       "         'basic': 322,\n",
       "         'twice': 319,\n",
       "         'oil': 318,\n",
       "         'compar': 317,\n",
       "         'regular': 317,\n",
       "         'true': 315,\n",
       "         'commun': 314,\n",
       "         'discov': 314,\n",
       "         'august': 313,\n",
       "         'sampl': 313,\n",
       "         'requir': 312,\n",
       "         'evid': 311,\n",
       "         'date': 310,\n",
       "         'law': 310,\n",
       "         'nausea': 310,\n",
       "         'avail': 310,\n",
       "         'confirm': 308,\n",
       "         'terribl': 307,\n",
       "         'screen': 307,\n",
       "         'chemic': 307,\n",
       "         'act': 306,\n",
       "         'decreas': 306,\n",
       "         'pneumonia': 305,\n",
       "         'among': 303,\n",
       "         'st': 303,\n",
       "         'admit': 303,\n",
       "         'quickli': 302,\n",
       "         'institut': 302,\n",
       "         'hit': 302,\n",
       "         'signific': 302,\n",
       "         'pancreat': 302,\n",
       "         'marrow': 301,\n",
       "         'rather': 301,\n",
       "         'oxygen': 300,\n",
       "         'inspir': 300,\n",
       "         'money': 299,\n",
       "         'near': 298,\n",
       "         'decis': 297,\n",
       "         'interferon': 297,\n",
       "         'decemb': 296,\n",
       "         'moment': 296,\n",
       "         'cyst': 296,\n",
       "         'sens': 295,\n",
       "         'sort': 294,\n",
       "         'abnorm': 293,\n",
       "         'hair': 293,\n",
       "         'standard': 293,\n",
       "         'lump': 293,\n",
       "         'vaccin': 293,\n",
       "         'push': 292,\n",
       "         'cold': 292,\n",
       "         'public': 292,\n",
       "         'readi': 292,\n",
       "         'compani': 291,\n",
       "         'cigarett': 291,\n",
       "         'messag': 290,\n",
       "         'garden': 290,\n",
       "         'prior': 289,\n",
       "         'approv': 289,\n",
       "         'abus': 289,\n",
       "         'respond': 288,\n",
       "         'safe': 287,\n",
       "         'oper': 286,\n",
       "         'constant': 286,\n",
       "         'build': 286,\n",
       "         'limit': 285,\n",
       "         'initi': 285,\n",
       "         'greatli': 285,\n",
       "         'individu': 284,\n",
       "         'eventu': 284,\n",
       "         'hiv': 284,\n",
       "         'mild': 284,\n",
       "         'boy': 284,\n",
       "         'futur': 283,\n",
       "         'toxin': 283,\n",
       "         'copd': 283,\n",
       "         'acut': 281,\n",
       "         'journal': 281,\n",
       "         'beauti': 281,\n",
       "         'team': 280,\n",
       "         'foot': 280,\n",
       "         'bladder': 280,\n",
       "         'angri': 280,\n",
       "         'recoveri': 279,\n",
       "         'weekend': 278,\n",
       "         'releas': 278,\n",
       "         'ach': 278,\n",
       "         'clot': 277,\n",
       "         'growth': 277,\n",
       "         'novemb': 277,\n",
       "         'freak': 277,\n",
       "         'xray': 277,\n",
       "         'prepar': 276,\n",
       "         'digest': 276,\n",
       "         'mum': 276,\n",
       "         'troubl': 274,\n",
       "         'intestin': 274,\n",
       "         'lesion': 273,\n",
       "         'stroke': 273,\n",
       "         'publish': 272,\n",
       "         'peac': 272,\n",
       "         'stand': 272,\n",
       "         'undergo': 271,\n",
       "         'md': 271,\n",
       "         'book': 271,\n",
       "         'shoulder': 271,\n",
       "         'headach': 270,\n",
       "         'fail': 269,\n",
       "         'lymphoma': 269,\n",
       "         'thistl': 269,\n",
       "         'comment': 268,\n",
       "         'okay': 268,\n",
       "         'w': 267,\n",
       "         'exercis': 267,\n",
       "         'got': 267,\n",
       "         'slow': 266,\n",
       "         'cope': 266,\n",
       "         'donor': 265,\n",
       "         'advis': 265,\n",
       "         'panic': 265,\n",
       "         'everyday': 265,\n",
       "         'nervou': 265,\n",
       "         'aunt': 265,\n",
       "         'male': 264,\n",
       "         'special': 263,\n",
       "         'scientist': 262,\n",
       "         'perform': 262,\n",
       "         'toxic': 262,\n",
       "         'thursday': 262,\n",
       "         'car': 262,\n",
       "         'alt': 262,\n",
       "         'self': 261,\n",
       "         'hug': 261,\n",
       "         'identifi': 261,\n",
       "         'catch': 261,\n",
       "         'beat': 260,\n",
       "         'author': 260,\n",
       "         'antibiot': 260,\n",
       "         'updat': 259,\n",
       "         'regard': 259,\n",
       "         'strength': 259,\n",
       "         'measur': 259,\n",
       "         'touch': 258,\n",
       "         'rib': 258,\n",
       "         'save': 257,\n",
       "         'gene': 256,\n",
       "         'bear': 255,\n",
       "         'upset': 255,\n",
       "         'l': 254,\n",
       "         'sore': 254,\n",
       "         'fever': 253,\n",
       "         'rule': 253,\n",
       "         'mostli': 253,\n",
       "         'intern': 252,\n",
       "         'dark': 252,\n",
       "         'emerg': 251,\n",
       "         'huge': 251,\n",
       "         'servic': 251,\n",
       "         'qualiti': 250,\n",
       "         'appetit': 250,\n",
       "         'inject': 250,\n",
       "         'garlic': 250,\n",
       "         'tuesday': 249,\n",
       "         'power': 249,\n",
       "         'thru': 249,\n",
       "         'aml': 248,\n",
       "         'adult': 248,\n",
       "         'amaz': 248,\n",
       "         'cholesterol': 248,\n",
       "         'co': 248,\n",
       "         'pictur': 248,\n",
       "         'tear': 247,\n",
       "         'mutat': 246,\n",
       "         'review': 246,\n",
       "         'imagin': 246,\n",
       "         'addict': 246,\n",
       "         'thyroid': 246,\n",
       "         'femal': 245,\n",
       "         'focu': 243,\n",
       "         'recov': 243,\n",
       "         'finish': 243,\n",
       "         'origin': 243,\n",
       "         'forget': 243,\n",
       "         'abil': 243,\n",
       "         'nearli': 242,\n",
       "         'tx': 241,\n",
       "         'john': 241,\n",
       "         'burn': 241,\n",
       "         'detail': 239,\n",
       "         'sourc': 239,\n",
       "         'cost': 239,\n",
       "         'enlarg': 239,\n",
       "         'lie': 239,\n",
       "         'mouth': 239,\n",
       "         'urin': 239,\n",
       "         'reach': 238,\n",
       "         'none': 237,\n",
       "         'encourag': 236,\n",
       "         'singl': 236,\n",
       "         'accept': 236,\n",
       "         'nerv': 236,\n",
       "         'middl': 234,\n",
       "         'countri': 234,\n",
       "         'busi': 234,\n",
       "         'fruit': 234,\n",
       "         'bile': 234,\n",
       "         'black': 234,\n",
       "         'christma': 233,\n",
       "         'appt': 233,\n",
       "         'aggress': 231,\n",
       "         'malign': 231,\n",
       "         'shrink': 231,\n",
       "         'investig': 230,\n",
       "         'deep': 229,\n",
       "         'birthday': 229,\n",
       "         'color': 229,\n",
       "         'outsid': 229,\n",
       "         'choos': 229,\n",
       "         'rel': 227,\n",
       "         'resist': 227,\n",
       "         'creat': 226,\n",
       "         'reaction': 226,\n",
       "         'septemb': 226,\n",
       "         'transfus': 225,\n",
       "         'frequent': 225,\n",
       "         'physician': 225,\n",
       "         'ga': 225,\n",
       "         'promis': 224,\n",
       "         'r': 224,\n",
       "         'third': 224,\n",
       "         'pick': 224,\n",
       "         'reveal': 223,\n",
       "         'convinc': 223,\n",
       "         'direct': 223,\n",
       "         'green': 223,\n",
       "         'anim': 222,\n",
       "         'popul': 221,\n",
       "         'unabl': 221,\n",
       "         'across': 221,\n",
       "         'html': 220,\n",
       "         'swell': 220,\n",
       "         'buy': 220,\n",
       "         'abdomen': 220,\n",
       "         'loos': 220,\n",
       "         'variou': 219,\n",
       "         'relaps': 219,\n",
       "         'definit': 219,\n",
       "         'nice': 219,\n",
       "         'aid': 219,\n",
       "         'cramp': 219,\n",
       "         'fill': 219,\n",
       "         'whatev': 218,\n",
       "         'bathroom': 218,\n",
       "         'throughout': 218,\n",
       "         'cover': 218,\n",
       "         'googl': 217,\n",
       "         'appar': 217,\n",
       "         'bright': 217,\n",
       "         'websit': 217,\n",
       "         'substanc': 217,\n",
       "         'phase': 216,\n",
       "         'bloat': 215,\n",
       "         'altern': 215,\n",
       "         'former': 215,\n",
       "         'oral': 215,\n",
       "         'benign': 215,\n",
       "         'search': 214,\n",
       "         'pregnant': 214,\n",
       "         'bare': 214,\n",
       "         'nd': 213,\n",
       "         'gain': 213,\n",
       "         'enjoy': 213,\n",
       "         'needl': 213,\n",
       "         'herb': 213,\n",
       "         'resect': 213,\n",
       "         'lack': 212,\n",
       "         'mysisterdalesgarden': 212,\n",
       "         'injuri': 211,\n",
       "         'wednesday': 210,\n",
       "         'drain': 210,\n",
       "         'slightli': 209,\n",
       "         'particip': 209,\n",
       "         'throw': 209,\n",
       "         'connect': 209,\n",
       "         'presenc': 209,\n",
       "         'refus': 209,\n",
       "         'jan': 208,\n",
       "         'glad': 208,\n",
       "         'unfortun': 208,\n",
       "         'loud': 208,\n",
       "         'suspect': 208,\n",
       "         'genotyp': 208,\n",
       "         'local': 207,\n",
       "         'arthriti': 207,\n",
       "         'agre': 206,\n",
       "         'feb': 206,\n",
       "         'vomit': 205,\n",
       "         'pulmonari': 204,\n",
       "         'fund': 204,\n",
       "         'block': 204,\n",
       "         'tea': 204,\n",
       "         'ib': 204,\n",
       "         'survivor': 203,\n",
       "         'revers': 203,\n",
       "         'depend': 203,\n",
       "         'lower': 203,\n",
       "         'prescrib': 202,\n",
       "         'summer': 202,\n",
       "         'terrifi': 202,\n",
       "         'internet': 201,\n",
       "         'forum': 201,\n",
       "         'dog': 201,\n",
       "         'subject': 200,\n",
       "         'datum': 200,\n",
       "         'dx': 200,\n",
       "         'exposur': 200,\n",
       "         'yellow': 200,\n",
       "         'rectum': 200,\n",
       "         'truli': 199,\n",
       "         'spine': 199,\n",
       "         'ita': 199,\n",
       "         'sexual': 199,\n",
       "         'hey': 198,\n",
       "         'grandmoth': 198,\n",
       "         'coffe': 198,\n",
       "         'approxim': 197,\n",
       "         'hell': 197,\n",
       "         'swollen': 197,\n",
       "         'compound': 197,\n",
       "         'bill': 196,\n",
       "         'toward': 196,\n",
       "         'dream': 196,\n",
       "         'constantli': 196,\n",
       "         'email': 195,\n",
       "         'describ': 195,\n",
       "         'weird': 195,\n",
       "         'carri': 195,\n",
       "         'main': 195,\n",
       "         'apart': 195,\n",
       "         ...})"
      ]
     },
     "execution_count": 63,
     "metadata": {},
     "output_type": "execute_result"
    }
   ],
   "source": [
    "#look count list\n",
    "vocab"
   ]
  },
  {
   "cell_type": "code",
   "execution_count": 64,
   "id": "ed07668a-a2f6-4071-9904-fd2472c0e3b4",
   "metadata": {},
   "outputs": [
    {
     "data": {
      "text/plain": [
       "30444"
      ]
     },
     "execution_count": 64,
     "metadata": {},
     "output_type": "execute_result"
    }
   ],
   "source": [
    "#Totall number of words\n",
    "len(vocab)"
   ]
  },
  {
   "cell_type": "markdown",
   "id": "33f798d1-c064-4103-b998-3c6194fede5f",
   "metadata": {},
   "source": [
    "In this data set posts columns have 30444 number of words,Then model create 30444 number of features."
   ]
  },
  {
   "cell_type": "code",
   "execution_count": 66,
   "id": "5005da71-e6f9-4401-8b6a-11b8d7888aa4",
   "metadata": {},
   "outputs": [
    {
     "data": {
      "text/plain": [
       "(10391, 3)"
      ]
     },
     "execution_count": 66,
     "metadata": {},
     "output_type": "execute_result"
    }
   ],
   "source": [
    "data.shape"
   ]
  },
  {
   "cell_type": "markdown",
   "id": "55fb4e5d-5467-4ab3-ae5b-6f8f3ed8eed4",
   "metadata": {},
   "source": [
    "In here we have 30444 features and 10391 data rows,features > data rows there for model overfitting."
   ]
  },
  {
   "cell_type": "code",
   "execution_count": 68,
   "id": "ce93860d-9b23-42f7-b17f-0340efd544dd",
   "metadata": {},
   "outputs": [],
   "source": [
    "tokens = [key for key in vocab if vocab[key] > 100]"
   ]
  },
  {
   "cell_type": "code",
   "execution_count": 69,
   "id": "d2fc4909-960b-424a-8d47-0e8970969359",
   "metadata": {},
   "outputs": [
    {
     "data": {
      "text/plain": [
       "1595"
      ]
     },
     "execution_count": 69,
     "metadata": {},
     "output_type": "execute_result"
    }
   ],
   "source": [
    "len(tokens)"
   ]
  },
  {
   "cell_type": "markdown",
   "id": "80a55d02-a795-4c50-a248-22e0e33632ae",
   "metadata": {},
   "source": [
    "In here we reduce our features,then we can solve overfitting situation"
   ]
  },
  {
   "cell_type": "code",
   "execution_count": 71,
   "id": "64d33419-6951-4061-9523-68d0d28c1b59",
   "metadata": {},
   "outputs": [],
   "source": [
    "def save_vocabulary(lines, filename):\n",
    "    data = '\\n'.join(lines)\n",
    "    file = open(filename, 'w', encoding=\"utf-8\")\n",
    "    file.write(data)\n",
    "    file.close()\n",
    "\n",
    "save_vocabulary(tokens, './vocabulary.txt')"
   ]
  },
  {
   "cell_type": "markdown",
   "id": "cfe4307d-74bd-4624-92b4-e2247a0a95c0",
   "metadata": {},
   "source": [
    "Divde data into train and test"
   ]
  },
  {
   "cell_type": "code",
   "execution_count": 73,
   "id": "4a8d8b19-a55a-4274-8d02-e1cf30b3612b",
   "metadata": {},
   "outputs": [],
   "source": [
    "#split data set x and y\n",
    "x = data['posts']\n",
    "y = data['intensity']"
   ]
  },
  {
   "cell_type": "code",
   "execution_count": 74,
   "id": "393f2537-6a55-4cf9-a054-48ea59c12a96",
   "metadata": {},
   "outputs": [],
   "source": [
    "#split data set train and test\n",
    "from sklearn.model_selection import train_test_split\n",
    "x_train, x_test, y_train, y_test = train_test_split(x, y, test_size=0.2, random_state=42, stratify=y)\n"
   ]
  },
  {
   "cell_type": "code",
   "execution_count": 75,
   "id": "13e05cdf-7997-4b49-92e1-7ebdc75391b6",
   "metadata": {},
   "outputs": [
    {
     "name": "stdout",
     "output_type": "stream",
     "text": [
      "x_train --->  (8312,)\n",
      "x_test  --->  (2079,)\n",
      "y_train --->  (8312,)\n",
      "y_test  --->  (2079,)\n"
     ]
    }
   ],
   "source": [
    "print('x_train ---> ',x_train.shape)\n",
    "print('x_test  ---> ',x_test.shape)\n",
    "print('y_train ---> ',y_train.shape)\n",
    "print('y_test  ---> ',y_test.shape)"
   ]
  },
  {
   "cell_type": "markdown",
   "id": "372e4b6b-23dd-44c1-817d-0fc196403e5a",
   "metadata": {},
   "source": [
    "Here deta set divide into train and test data,Train data shape is  (8312,) and test data shape is  (2079,)."
   ]
  },
  {
   "cell_type": "code",
   "execution_count": 77,
   "id": "0e641d2f-512f-441d-80b2-35dc0a0f253a",
   "metadata": {},
   "outputs": [
    {
     "data": {
      "image/png": "[encoded data removed]",
      "text/plain": [
       "<Figure size 800x600 with 1 Axes>"
      ]
     },
     "metadata": {},
     "output_type": "display_data"
    }
   ],
   "source": [
    "#plot pie graph for test and train\n",
    "\n",
    "train_size = len(x_train)\n",
    "test_size = len(x_test)\n",
    "# Sizes for the pie chart\n",
    "sizes = [train_size, test_size]\n",
    "labels = ['Train', 'Test']\n",
    "colors = ['skyblue', 'lightcoral']\n",
    "explode = (0.1, 0)  # explode the 1st slice (Train)\n",
    "\n",
    "# Plotting the pie chart\n",
    "plt.figure(figsize=(8, 6))\n",
    "plt.pie(sizes, explode=explode, labels=labels, colors=colors, autopct='%1.1f%%',\n",
    "        shadow=True, startangle=140)\n",
    "plt.title('Train and Test Data Split')\n",
    "plt.axis('equal')  # Equal aspect ratio ensures that pie is drawn as a circle.\n",
    "plt.show()\n",
    "\n"
   ]
  },
  {
   "cell_type": "code",
   "execution_count": 78,
   "id": "df130c99-db12-4958-8961-379be8d706f1",
   "metadata": {},
   "outputs": [],
   "source": [
    "def vectorizer(ds, vocabulary):\n",
    "    vectorized_lst = []\n",
    "    \n",
    "    for sentence in ds:\n",
    "        sentence_lst = np.zeros(len(vocabulary))\n",
    "        \n",
    "        for i in range(len(vocabulary)):\n",
    "            if vocabulary[i] in sentence.split():\n",
    "                sentence_lst[i] = 1\n",
    "                \n",
    "        vectorized_lst.append(sentence_lst)\n",
    "        \n",
    "    vectorized_lst_new = np.asarray(vectorized_lst, dtype=np.float32)\n",
    "    \n",
    "    return vectorized_lst_new"
   ]
  },
  {
   "cell_type": "code",
   "execution_count": 79,
   "id": "30dbf468-6207-47b0-a86a-431603180cbb",
   "metadata": {},
   "outputs": [],
   "source": [
    "vectorized_x_train = vectorizer(x_train, tokens)"
   ]
  },
  {
   "cell_type": "code",
   "execution_count": 80,
   "id": "f97c1835-aa89-40c9-ab7c-1e57facf9f1c",
   "metadata": {},
   "outputs": [],
   "source": [
    "vectorized_x_test = vectorizer(x_test, tokens)"
   ]
  },
  {
   "cell_type": "code",
   "execution_count": 81,
   "id": "098cb8ee-4239-4e17-901f-50580862a37b",
   "metadata": {
    "scrolled": true
   },
   "outputs": [
    {
     "data": {
      "text/plain": [
       "array([[1., 0., 0., ..., 0., 0., 0.],\n",
       "       [0., 0., 0., ..., 0., 0., 0.],\n",
       "       [0., 0., 0., ..., 0., 0., 0.],\n",
       "       ...,\n",
       "       [1., 0., 0., ..., 0., 0., 0.],\n",
       "       [1., 0., 0., ..., 0., 0., 0.],\n",
       "       [1., 0., 0., ..., 0., 0., 0.]], dtype=float32)"
      ]
     },
     "execution_count": 81,
     "metadata": {},
     "output_type": "execute_result"
    }
   ],
   "source": [
    "vectorized_x_train"
   ]
  },
  {
   "cell_type": "code",
   "execution_count": 82,
   "id": "d33e2edc-a5d1-470a-98b9-f1ec3d651212",
   "metadata": {},
   "outputs": [
    {
     "data": {
      "text/plain": [
       "intensity\n",
       " 0    3499\n",
       "-1    3289\n",
       "-2     924\n",
       " 1     600\n",
       "Name: count, dtype: int64"
      ]
     },
     "execution_count": 82,
     "metadata": {},
     "output_type": "execute_result"
    }
   ],
   "source": [
    "#checking data set balaced or imbalanced data set\n",
    "y_train.value_counts()"
   ]
  },
  {
   "cell_type": "code",
   "execution_count": null,
   "id": "6bb08204-a52f-42c6-b5bf-f63417cbca7d",
   "metadata": {},
   "outputs": [],
   "source": [
    " "
   ]
  },
  {
   "cell_type": "code",
   "execution_count": 84,
   "id": "bd5ba33a-7680-48a1-b302-c21da475f63e",
   "metadata": {},
   "outputs": [
    {
     "name": "stderr",
     "output_type": "stream",
     "text": [
      "C:\\Users\\KMN IT\\AppData\\Local\\Temp\\ipykernel_18504\\1494397479.py:6: FutureWarning: \n",
      "\n",
      "Passing `palette` without assigning `hue` is deprecated and will be removed in v0.14.0. Assign the `x` variable to `hue` and set `legend=False` for the same effect.\n",
      "\n",
      "  sns.barplot(x=value_counts.index, y=value_counts.values,palette=palette)\n"
     ]
    },
    {
     "data": {
      "image/png": "[encoded data removed]",
      "text/plain": [
       "<Figure size 640x480 with 1 Axes>"
      ]
     },
     "metadata": {},
     "output_type": "display_data"
    }
   ],
   "source": [
    "# Step 1: Calculate the value counts of the 'predicted' column\n",
    "value_counts = y_train.value_counts()\n",
    "\n",
    "# Step 2: Create a bar plot using seaborn\n",
    "palette = sns.color_palette(\"husl\", len(value_counts))\n",
    "sns.barplot(x=value_counts.index, y=value_counts.values,palette=palette)\n",
    "\n",
    "# Optional: Adding labels and title\n",
    "plt.xlabel('Predicted Categories')\n",
    "plt.ylabel('Counts')\n",
    "plt.title('Value Counts of Predicted Categories')\n",
    "plt.grid(True)\n",
    "\n",
    "# Show the plot\n",
    "plt.show()"
   ]
  },
  {
   "cell_type": "markdown",
   "id": "edd08d2b-fbbe-4c8c-b171-29f00db0b93e",
   "metadata": {},
   "source": [
    "Acording to tha plot this  data set look like imbalanced data set because netural and negative columns and very negative and positive columns differnce is very high.Therefore we convert in to balanced data set. "
   ]
  },
  {
   "cell_type": "markdown",
   "id": "44cab88e-d7df-452f-9ccf-0fdf20327f11",
   "metadata": {},
   "source": [
    "Handle imbalanced data set"
   ]
  },
  {
   "cell_type": "code",
   "execution_count": 87,
   "id": "fc54f039-1b39-4b01-9862-878de15e80d4",
   "metadata": {},
   "outputs": [
    {
     "name": "stdout",
     "output_type": "stream",
     "text": [
      "(13996, 1595) (13996,)\n"
     ]
    }
   ],
   "source": [
    "#Here we use SMOTE method to handle imbalanced data set\n",
    "from imblearn.over_sampling import SMOTE\n",
    "smote = SMOTE()\n",
    "vectorized_x_train_smote, y_train_smote = smote.fit_resample(vectorized_x_train, y_train)\n",
    "print(vectorized_x_train_smote.shape, y_train_smote.shape)"
   ]
  },
  {
   "cell_type": "code",
   "execution_count": 88,
   "id": "3207e728-f158-49b8-b163-a96b60002932",
   "metadata": {},
   "outputs": [
    {
     "data": {
      "text/plain": [
       "intensity\n",
       "-1    3499\n",
       " 0    3499\n",
       " 1    3499\n",
       "-2    3499\n",
       "Name: count, dtype: int64"
      ]
     },
     "execution_count": 88,
     "metadata": {},
     "output_type": "execute_result"
    }
   ],
   "source": [
    "#After the handle imbalanced data set y train value counts\n",
    "y_train_smote.value_counts()"
   ]
  },
  {
   "cell_type": "code",
   "execution_count": 90,
   "id": "66fe3186-19d2-4348-be04-dd20b017755f",
   "metadata": {
    "scrolled": true
   },
   "outputs": [
    {
     "name": "stderr",
     "output_type": "stream",
     "text": [
      "C:\\Users\\KMN IT\\AppData\\Local\\Temp\\ipykernel_18504\\79628083.py:8: FutureWarning: \n",
      "\n",
      "Passing `palette` without assigning `hue` is deprecated and will be removed in v0.14.0. Assign the `x` variable to `hue` and set `legend=False` for the same effect.\n",
      "\n",
      "  sns.barplot(x=value_counts.index, y=value_counts.values,palette=palette)\n"
     ]
    },
    {
     "data": {
      "image/png": "[encoded data removed]",
      "text/plain": [
       "<Figure size 640x480 with 1 Axes>"
      ]
     },
     "metadata": {},
     "output_type": "display_data"
    }
   ],
   "source": [
    "#After the balanced imbalanced data set\n",
    "\n",
    "# Step 1: Calculate the value counts of the 'predicted' column\n",
    "value_counts = y_train_smote.value_counts()\n",
    "\n",
    "# Step 2: Create a bar plot using seaborn\n",
    "palette = sns.color_palette(\"husl\", len(value_counts))\n",
    "sns.barplot(x=value_counts.index, y=value_counts.values,palette=palette)\n",
    "\n",
    "# Optional: Adding labels and title\n",
    "plt.xlabel('Predicted Categories')\n",
    "plt.ylabel('Counts')\n",
    "plt.title('Value Counts of Predicted Categories')\n",
    "plt.grid(True)\n",
    "\n",
    "# Show the plot\n",
    "plt.show()"
   ]
  },
  {
   "cell_type": "markdown",
   "id": "59f5488b-d035-49e0-b578-56b5fd1f2773",
   "metadata": {},
   "source": [
    "Model Building"
   ]
  },
  {
   "cell_type": "raw",
   "id": "b8520254-e6cc-422f-9d12-4f6498f1e6b7",
   "metadata": {},
   "source": [
    "In this problem we use classification algorthems.\n",
    " -->Logistic Regression\n",
    " -->Naive Bayes\n",
    " -->DecissionTree Classifier\n",
    " -->RandomForest Classifier\n",
    " -->SVC\n",
    " -->KNN"
   ]
  },
  {
   "cell_type": "code",
   "execution_count": 92,
   "id": "ebe0224f-006f-4282-b298-f5e6e39caf0c",
   "metadata": {},
   "outputs": [],
   "source": [
    "#import necessary librarys\n",
    "from sklearn.linear_model import LogisticRegression\n",
    "from sklearn.svm import SVC\n",
    "from sklearn.tree import DecisionTreeClassifier\n",
    "from sklearn.naive_bayes import GaussianNB\n",
    "from sklearn.neighbors import KNeighborsClassifier\n",
    "from sklearn.ensemble import RandomForestClassifier"
   ]
  },
  {
   "cell_type": "raw",
   "id": "e82062d8-1474-4ae7-81d9-acd3e717efc7",
   "metadata": {},
   "source": [
    "To avaluate best model we check\n",
    "   ---->accuracy score\n",
    "   ---->mse\n",
    "   ---->f1 score\n",
    "   ---->precision score\n",
    "   ---->recall score\n",
    "in each model"
   ]
  },
  {
   "cell_type": "code",
   "execution_count": 94,
   "id": "1e45eb40-0b8d-467a-aeb4-9cd0d9670b81",
   "metadata": {},
   "outputs": [],
   "source": [
    "#define a function for calculate best model checking veriables\n",
    "\n",
    "from sklearn.metrics import accuracy_score, f1_score, precision_score, recall_score, mean_squared_error\n",
    "\n",
    "def training_scores(y_act, y_pred):\n",
    "    acc = round(accuracy_score(y_act, y_pred), 3)\n",
    "    pr = round(precision_score(y_act, y_pred, average='weighted'), 3)\n",
    "    rec = round(recall_score(y_act, y_pred, average='weighted'), 3)\n",
    "    f1 = round(f1_score(y_act, y_pred, average='weighted'), 3)\n",
    "    mse = round(mean_squared_error(y_act, y_pred), 3)\n",
    "    print(f'Training Scores:\\n\\tAccuracy = {acc}\\n\\tPrecision = {pr}\\n\\tRecall = {rec}\\n\\tF1-Score = {f1}\\n\\tMSE = {mse}')\n",
    "\n",
    "def validation_scores(y_act, y_pred):\n",
    "    acc = round(accuracy_score(y_act, y_pred), 3)\n",
    "    pr = round(precision_score(y_act, y_pred, average='weighted'), 3)\n",
    "    rec = round(recall_score(y_act, y_pred, average='weighted'), 3)\n",
    "    f1 = round(f1_score(y_act, y_pred, average='weighted'), 3)\n",
    "    mse = round(mean_squared_error(y_act, y_pred), 3)\n",
    "    print(f'Validation Scores:\\n\\tAccuracy = {acc}\\n\\tPrecision = {pr}\\n\\tRecall = {rec}\\n\\tF1-Score = {f1}\\n\\tMSE = {mse}')\n"
   ]
  },
  {
   "cell_type": "code",
   "execution_count": 95,
   "id": "244a16ec-49b5-424f-a6d7-0ad970ca9233",
   "metadata": {},
   "outputs": [
    {
     "name": "stdout",
     "output_type": "stream",
     "text": [
      "Logistic Regression:\n",
      "Training Scores:\n",
      "\tAccuracy = 0.931\n",
      "\tPrecision = 0.93\n",
      "\tRecall = 0.931\n",
      "\tF1-Score = 0.93\n",
      "\tMSE = 0.101\n",
      "Validation Scores:\n",
      "\tAccuracy = 0.687\n",
      "\tPrecision = 0.703\n",
      "\tRecall = 0.687\n",
      "\tF1-Score = 0.693\n",
      "\tMSE = 0.555\n"
     ]
    },
    {
     "name": "stderr",
     "output_type": "stream",
     "text": [
      "C:\\Users\\KMN IT\\anaconda3\\Lib\\site-packages\\sklearn\\linear_model\\_logistic.py:469: ConvergenceWarning: lbfgs failed to converge (status=1):\n",
      "STOP: TOTAL NO. of ITERATIONS REACHED LIMIT.\n",
      "\n",
      "Increase the number of iterations (max_iter) or scale the data as shown in:\n",
      "    https://scikit-learn.org/stable/modules/preprocessing.html\n",
      "Please also refer to the documentation for alternative solver options:\n",
      "    https://scikit-learn.org/stable/modules/linear_model.html#logistic-regression\n",
      "  n_iter_i = _check_optimize_result(\n"
     ]
    }
   ],
   "source": [
    "#Logistic Regression\n",
    "lr = LogisticRegression()\n",
    "lr.fit(vectorized_x_train_smote, y_train_smote)\n",
    "y_train_pred = lr.predict(vectorized_x_train_smote)\n",
    "y_test_pred = lr.predict(vectorized_x_test)\n",
    "\n",
    "print(\"Logistic Regression:\")\n",
    "training_scores(y_train_smote, y_train_pred)\n",
    "validation_scores(y_test, y_test_pred)"
   ]
  },
  {
   "cell_type": "code",
   "execution_count": 96,
   "id": "2e857a55-fd52-4889-b3c2-b199913a9d12",
   "metadata": {},
   "outputs": [
    {
     "name": "stdout",
     "output_type": "stream",
     "text": [
      "Support Vector Classifier:\n",
      "Training Scores:\n",
      "\tAccuracy = 0.963\n",
      "\tPrecision = 0.963\n",
      "\tRecall = 0.963\n",
      "\tF1-Score = 0.963\n",
      "\tMSE = 0.055\n",
      "Validation Scores:\n",
      "\tAccuracy = 0.746\n",
      "\tPrecision = 0.743\n",
      "\tRecall = 0.746\n",
      "\tF1-Score = 0.744\n",
      "\tMSE = 0.458\n"
     ]
    }
   ],
   "source": [
    "#SVC\n",
    "svc = SVC()\n",
    "svc.fit(vectorized_x_train_smote, y_train_smote)\n",
    "y_train_pred_svc = svc.predict(vectorized_x_train_smote)\n",
    "y_test_pred_svc = svc.predict(vectorized_x_test)\n",
    "\n",
    "print(\"Support Vector Classifier:\")\n",
    "training_scores(y_train_smote, y_train_pred_svc)\n",
    "validation_scores(y_test, y_test_pred_svc)\n"
   ]
  },
  {
   "cell_type": "code",
   "execution_count": 97,
   "id": "2971cddb-3819-41bd-9172-9bdbfafde659",
   "metadata": {},
   "outputs": [
    {
     "name": "stdout",
     "output_type": "stream",
     "text": [
      "DecisionTreeClassifier:\n",
      "Training Scores:\n",
      "\tAccuracy = 0.999\n",
      "\tPrecision = 0.999\n",
      "\tRecall = 0.999\n",
      "\tF1-Score = 0.999\n",
      "\tMSE = 0.002\n",
      "Validation Scores:\n",
      "\tAccuracy = 0.576\n",
      "\tPrecision = 0.58\n",
      "\tRecall = 0.576\n",
      "\tF1-Score = 0.578\n",
      "\tMSE = 0.803\n"
     ]
    }
   ],
   "source": [
    "#DecisionTreeClassifier\n",
    "dt = DecisionTreeClassifier()\n",
    "dt.fit(vectorized_x_train_smote, y_train_smote)\n",
    "y_train_pred = dt.predict(vectorized_x_train_smote)\n",
    "y_test_pred = dt.predict(vectorized_x_test)\\\n",
    "\n",
    "print(\"DecisionTreeClassifier:\")\n",
    "training_scores(y_train_smote, y_train_pred)\n",
    "validation_scores(y_test, y_test_pred)"
   ]
  },
  {
   "cell_type": "code",
   "execution_count": 101,
   "id": "163b5dda-11c6-410d-8ce7-6ba73d92eae4",
   "metadata": {},
   "outputs": [
    {
     "name": "stdout",
     "output_type": "stream",
     "text": [
      "Gaussian Naive Bayes:\n",
      "Training Scores:\n",
      "\tAccuracy = 0.508\n",
      "\tPrecision = 0.574\n",
      "\tRecall = 0.508\n",
      "\tF1-Score = 0.486\n",
      "\tMSE = 2.037\n",
      "Validation Scores:\n",
      "\tAccuracy = 0.425\n",
      "\tPrecision = 0.614\n",
      "\tRecall = 0.425\n",
      "\tF1-Score = 0.459\n",
      "\tMSE = 1.414\n"
     ]
    }
   ],
   "source": [
    "#Gaussian Naive Bayes\n",
    "gnb = GaussianNB()\n",
    "gnb.fit(vectorized_x_train_smote, y_train_smote)\n",
    "y_train_pred_gnb = gnb.predict(vectorized_x_train_smote)\n",
    "y_test_pred_gnb = gnb.predict(vectorized_x_test)\n",
    "\n",
    "print(\"Gaussian Naive Bayes:\")\n",
    "training_scores(y_train_smote, y_train_pred_gnb)\n",
    "validation_scores(y_test, y_test_pred_gnb)\n",
    "\n",
    "\n"
   ]
  },
  {
   "cell_type": "code",
   "execution_count": 102,
   "id": "c73e30af-0c9f-4eb4-8a03-b12edca66362",
   "metadata": {},
   "outputs": [
    {
     "name": "stdout",
     "output_type": "stream",
     "text": [
      "K-Nearest Neighbors:\n",
      "Training Scores:\n",
      "\tAccuracy = 0.662\n",
      "\tPrecision = 0.736\n",
      "\tRecall = 0.662\n",
      "\tF1-Score = 0.62\n",
      "\tMSE = 0.69\n",
      "Validation Scores:\n",
      "\tAccuracy = 0.298\n",
      "\tPrecision = 0.626\n",
      "\tRecall = 0.298\n",
      "\tF1-Score = 0.311\n",
      "\tMSE = 1.69\n"
     ]
    }
   ],
   "source": [
    "#K-Nearest Neighbors\n",
    "knn = KNeighborsClassifier()\n",
    "knn.fit(vectorized_x_train_smote, y_train_smote)\n",
    "y_train_pred_knn = knn.predict(vectorized_x_train_smote)\n",
    "y_test_pred_knn = knn.predict(vectorized_x_test)\n",
    "\n",
    "print(\"K-Nearest Neighbors:\")\n",
    "training_scores(y_train_smote, y_train_pred_knn)\n",
    "validation_scores(y_test, y_test_pred_knn)\n"
   ]
  },
  {
   "cell_type": "code",
   "execution_count": 103,
   "id": "3cd86b25-f1e3-48c0-a8c9-f5055514a3f3",
   "metadata": {},
   "outputs": [
    {
     "name": "stdout",
     "output_type": "stream",
     "text": [
      "Random Forest Classifier:\n",
      "Training Scores:\n",
      "\tAccuracy = 0.999\n",
      "\tPrecision = 0.999\n",
      "\tRecall = 0.999\n",
      "\tF1-Score = 0.999\n",
      "\tMSE = 0.002\n",
      "Validation Scores:\n",
      "\tAccuracy = 0.692\n",
      "\tPrecision = 0.706\n",
      "\tRecall = 0.692\n",
      "\tF1-Score = 0.676\n",
      "\tMSE = 0.489\n"
     ]
    }
   ],
   "source": [
    "# Random Forest Classifier\n",
    "rfc = RandomForestClassifier()\n",
    "rfc.fit(vectorized_x_train_smote, y_train_smote)\n",
    "y_train_pred_rfc = rfc.predict(vectorized_x_train_smote)\n",
    "y_test_pred_rfc = rfc.predict(vectorized_x_test)\n",
    "\n",
    "print(\"Random Forest Classifier:\")\n",
    "training_scores(y_train_smote, y_train_pred_rfc)\n",
    "validation_scores(y_test, y_test_pred_rfc)\n"
   ]
  },
  {
   "cell_type": "code",
   "execution_count": 104,
   "id": "0e515e3a-d31c-44f9-861f-af3245971b9f",
   "metadata": {},
   "outputs": [
    {
     "data": {
      "image/png": "[encoded data removed]",
      "text/plain": [
       "<Figure size 1000x600 with 1 Axes>"
      ]
     },
     "metadata": {},
     "output_type": "display_data"
    }
   ],
   "source": [
    "# Data for the Logistic Regression algorithms\n",
    "algorithm = 'Logistic Regression'\n",
    "metrics = ['Accuracy', 'Precision', 'Recall', 'F1-Score', 'MSE']\n",
    "train_scores = [0.932, 0.931, 0.932, 0.931, 0.1]\n",
    "validation_scores = [0.685,0.702,0.685,0.691,0.562]\n",
    "\n",
    "# Prepare the data for the plot\n",
    "data = []\n",
    "for j, metric in enumerate(metrics):\n",
    "    data.append([metric, 'Training', train_scores[j]])\n",
    "    data.append([metric, 'Validation', validation_scores[j]])\n",
    "\n",
    "df = pd.DataFrame(data, columns=['Metric', 'Phase', 'Score'])\n",
    "\n",
    "# Plot the data\n",
    "plt.figure(figsize=(10, 6))\n",
    "sns.barplot(data=df, x='Metric', y='Score', hue='Phase', errorbar=None)\n",
    "plt.title(f'Training and Validation Scores of {algorithm}')\n",
    "plt.ylabel('Score')\n",
    "plt.xticks(rotation=45)\n",
    "plt.legend(title='Phase')\n",
    "plt.tight_layout()\n",
    "plt.show()"
   ]
  },
  {
   "cell_type": "code",
   "execution_count": 105,
   "id": "ff6831ff-4932-4e4b-a237-6008b0dfa875",
   "metadata": {},
   "outputs": [
    {
     "data": {
      "image/png": "[encoded data removed]",
      "text/plain": [
       "<Figure size 1000x600 with 1 Axes>"
      ]
     },
     "metadata": {},
     "output_type": "display_data"
    }
   ],
   "source": [
    "# Data for the SVC algorithms\n",
    "algorithm = 'SVC'\n",
    "metrics = ['Accuracy', 'Precision', 'Recall', 'F1-Score', 'MSE']\n",
    "train_scores = [0.963,0.963,0.963,0.963,0.054]\n",
    "validation_scores = [0.742,0.74,0.742,0.741,0.459]\n",
    "\n",
    "# Prepare the data for the plot\n",
    "data = []\n",
    "for j, metric in enumerate(metrics):\n",
    "    data.append([metric, 'Training', train_scores[j]])\n",
    "    data.append([metric, 'Validation', validation_scores[j]])\n",
    "\n",
    "df = pd.DataFrame(data, columns=['Metric', 'Phase', 'Score'])\n",
    "\n",
    "# Plot the data\n",
    "plt.figure(figsize=(10, 6))\n",
    "sns.barplot(data=df, x='Metric', y='Score', hue='Phase', errorbar=None)\n",
    "plt.title(f'Training and Validation Scores of {algorithm}')\n",
    "plt.ylabel('Score')\n",
    "plt.xticks(rotation=45)\n",
    "plt.legend(title='Phase')\n",
    "plt.tight_layout()\n",
    "plt.show()"
   ]
  },
  {
   "cell_type": "code",
   "execution_count": 106,
   "id": "8136faf1-c48a-4b8c-82c1-d96ce8d0dd8b",
   "metadata": {},
   "outputs": [
    {
     "data": {
      "image/png": "[encoded data removed]",
      "text/plain": [
       "<Figure size 1000x600 with 1 Axes>"
      ]
     },
     "metadata": {},
     "output_type": "display_data"
    }
   ],
   "source": [
    "# Data for the SVC algorithms\n",
    "algorithm = 'Decision Tree'\n",
    "metrics = ['Accuracy', 'Precision', 'Recall', 'F1-Score', 'MSE']\n",
    "train_scores = [0.999, 0.999, 0.999, 0.999, 0.002]\n",
    "validation_scores = [0.579, 0.581, 0.579, 0.58, 0.779]\n",
    "\n",
    "# Prepare the data for the plot\n",
    "data = []\n",
    "for j, metric in enumerate(metrics):\n",
    "    data.append([metric, 'Training', train_scores[j]])\n",
    "    data.append([metric, 'Validation', validation_scores[j]])\n",
    "\n",
    "df = pd.DataFrame(data, columns=['Metric', 'Phase', 'Score'])\n",
    "\n",
    "# Plot the data\n",
    "plt.figure(figsize=(10, 6))\n",
    "sns.barplot(data=df, x='Metric', y='Score', hue='Phase', errorbar=None)\n",
    "plt.title(f'Training and Validation Scores of {algorithm}')\n",
    "plt.ylabel('Score')\n",
    "plt.xticks(rotation=45)\n",
    "plt.legend(title='Phase')\n",
    "plt.tight_layout()\n",
    "plt.show()"
   ]
  },
  {
   "cell_type": "code",
   "execution_count": 107,
   "id": "95782cdf-3724-4c3a-8ab2-6f419fe3aded",
   "metadata": {},
   "outputs": [
    {
     "data": {
      "image/png": "[encoded data removed]",
      "text/plain": [
       "<Figure size 1000x600 with 1 Axes>"
      ]
     },
     "metadata": {},
     "output_type": "display_data"
    }
   ],
   "source": [
    "# Data for the Naive Bayes algorithms\n",
    "algorithm = 'Naive Bayes'\n",
    "metrics = ['Accuracy', 'Precision', 'Recall', 'F1-Score', 'MSE']\n",
    "train_scores = [ 0.51, 0.577,0.51,0.489,2.018]\n",
    "validation_scores = [0.427,0.619,0.427,0.461,1.419]\n",
    "\n",
    "# Prepare the data for the plot\n",
    "data = []\n",
    "for j, metric in enumerate(metrics):\n",
    "    data.append([metric, 'Training', train_scores[j]])\n",
    "    data.append([metric, 'Validation', validation_scores[j]])\n",
    "\n",
    "df = pd.DataFrame(data, columns=['Metric', 'Phase', 'Score'])\n",
    "\n",
    "# Plot the data\n",
    "plt.figure(figsize=(10, 6))\n",
    "sns.barplot(data=df, x='Metric', y='Score', hue='Phase', errorbar=None)\n",
    "plt.title(f'Training and Validation Scores of {algorithm}')\n",
    "plt.ylabel('Score')\n",
    "plt.xticks(rotation=45)\n",
    "plt.legend(title='Phase')\n",
    "plt.tight_layout()\n",
    "plt.show()\n",
    "\n"
   ]
  },
  {
   "cell_type": "code",
   "execution_count": 108,
   "id": "35f990f0-c12a-4471-b27a-fbbafada80e0",
   "metadata": {},
   "outputs": [
    {
     "data": {
      "image/png": "[encoded data removed]",
      "text/plain": [
       "<Figure size 1000x600 with 1 Axes>"
      ]
     },
     "metadata": {},
     "output_type": "display_data"
    }
   ],
   "source": [
    "# Data for the KNN algorithms\n",
    "algorithm = 'KNN'\n",
    "metrics = ['Accuracy', 'Precision', 'Recall', 'F1-Score', 'MSE']\n",
    "train_scores = [0.66,0.739,0.66,0.615,0.687]\n",
    "validation_scores = [0.291,0.629,0.291,0.307,1.773]\n",
    "\n",
    "# Prepare the data for the plot\n",
    "data = []\n",
    "for j, metric in enumerate(metrics):\n",
    "    data.append([metric, 'Training', train_scores[j]])\n",
    "    data.append([metric, 'Validation', validation_scores[j]])\n",
    "\n",
    "df = pd.DataFrame(data, columns=['Metric', 'Phase', 'Score'])\n",
    "\n",
    "# Plot the data\n",
    "plt.figure(figsize=(10, 6))\n",
    "sns.barplot(data=df, x='Metric', y='Score', hue='Phase', errorbar=None)\n",
    "plt.title(f'Training and Validation Scores of {algorithm}')\n",
    "plt.ylabel('Score')\n",
    "plt.xticks(rotation=45)\n",
    "plt.legend(title='Phase')\n",
    "plt.tight_layout()\n",
    "plt.show()\n",
    "\n"
   ]
  },
  {
   "cell_type": "code",
   "execution_count": 109,
   "id": "9f3fb8ea-3122-4b80-8d62-6beb8ac8ad44",
   "metadata": {
    "scrolled": true
   },
   "outputs": [
    {
     "data": {
      "image/png": "[encoded data removed]",
      "text/plain": [
       "<Figure size 1000x600 with 1 Axes>"
      ]
     },
     "metadata": {},
     "output_type": "display_data"
    }
   ],
   "source": [
    "# Data for the algorithms\n",
    "algorithm = 'Random Forest'\n",
    "metrics = ['Accuracy', 'Precision', 'Recall', 'F1-Score', 'MSE']\n",
    "train_scores = [0.999, 0.999, 0.999, 0.999, 0.002]\n",
    "validation_scores = [0.696,  0.711,  0.696, 0.679, 0.494]\n",
    "\n",
    "# Prepare the data for the plot\n",
    "data = []\n",
    "for j, metric in enumerate(metrics):\n",
    "    data.append([metric, 'Training', train_scores[j]])\n",
    "    data.append([metric, 'Validation', validation_scores[j]])\n",
    "\n",
    "df = pd.DataFrame(data, columns=['Metric', 'Phase', 'Score'])\n",
    "\n",
    "# Plot the data\n",
    "plt.figure(figsize=(10, 6))\n",
    "sns.barplot(data=df, x='Metric', y='Score', hue='Phase',  errorbar=None)\n",
    "plt.title(f'Training and Validation Scores of {algorithm}')\n",
    "plt.ylabel('Score')\n",
    "plt.xticks(rotation=45)\n",
    "plt.legend(title='Phase')\n",
    "plt.tight_layout()\n",
    "plt.show()\n"
   ]
  },
  {
   "cell_type": "raw",
   "id": "eff21fbb-294f-4f33-b727-9a14e0783551",
   "metadata": {},
   "source": [
    "According to the graph we notice algorithams training score high but testing scores are lower,the reson is we have large features set there for model has overfitting.but we can handle this situation in reduce our features."
   ]
  },
  {
   "cell_type": "raw",
   "id": "7b55ca26-4107-4c22-bd25-133530d57be5",
   "metadata": {},
   "source": [
    "All algorithams trainning scores are very high but we focus testing scores for select best algorithem for model.According to the scores the best algorithem is SVC algorithem."
   ]
  },
  {
   "cell_type": "raw",
   "id": "2495df3b-5769-404b-ba2d-7c07465620f8",
   "metadata": {},
   "source": [
    "from sklearn.model_selection import GridSearchCV\n",
    "\n",
    "# Define the parameter grid\n",
    "param_grid = {\n",
    "    'C': [0.1, 1, 10, 100],\n",
    "    'gamma': [0.001, 0.01, 0.1, 1],\n",
    "    'kernel': ['rbf', 'linear', 'poly']\n",
    "}\n",
    "\n",
    "# Create GridSearchCV object\n",
    "grid_search = GridSearchCV(estimator=SVC(), param_grid=param_grid, cv=5)\n",
    "\n",
    "# Fit the GridSearchCV object\n",
    "grid_search.fit(vectorized_x_train_smote, y_train_smote)\n",
    "\n",
    "# Print the best parameters and best score\n",
    "print(\"Best parameters found: \", grid_search.best_params_)\n",
    "print(\"Best cross-validation score: {:.2f}\".format(grid_search.best_score_))\n",
    "\n",
    "training_scores(y_train_smote, y_train_pred_gnb)\n",
    "validation_scores(y_test, y_test_pred_gnb)\n"
   ]
  },
  {
   "cell_type": "code",
   "execution_count": 115,
   "id": "cfe4dd58-b8eb-488c-a9f7-2281e3229509",
   "metadata": {},
   "outputs": [],
   "source": [
    "\n",
    "import pickle\n",
    "\n",
    "with open('./model.pickle', 'wb') as file:\n",
    "    pickle.dump(svc, file)"
   ]
  },
  {
   "cell_type": "code",
   "execution_count": null,
   "id": "dd417dbd-d29e-4bb0-9c3c-a71455066ed5",
   "metadata": {},
   "outputs": [],
   "source": [
    "User input prediction"
   ]
  },
  {
   "cell_type": "code",
   "execution_count": 170,
   "id": "61964f54-4d59-4f45-88bb-0aded39f9918",
   "metadata": {},
   "outputs": [],
   "source": [
    "def remove_punctuations(text):\n",
    "    for punctuation in string.punctuation:\n",
    "        text = text.replace(punctuation, '')\n",
    "    return text"
   ]
  },
  {
   "cell_type": "code",
   "execution_count": 172,
   "id": "aef0b071-ab48-4cb6-92c9-b56175280170",
   "metadata": {},
   "outputs": [],
   "source": [
    "with open('./model.pickle', 'rb') as f:\n",
    "    model = pickle.load(f)"
   ]
  },
  {
   "cell_type": "code",
   "execution_count": 174,
   "id": "a568fb76-51b2-47ac-b343-47957e91f94a",
   "metadata": {},
   "outputs": [],
   "source": [
    "with open('./stop words/corpora/stopwords/english', 'r') as file:\n",
    "    sw = file.read().splitlines()"
   ]
  },
  {
   "cell_type": "code",
   "execution_count": 176,
   "id": "dbd0ce06-ea50-4720-b035-b4c96606e7b4",
   "metadata": {},
   "outputs": [],
   "source": [
    "vocab = pd.read_csv('./vocabulary.txt', header=None)\n",
    "tokens = vocab[0].tolist()"
   ]
  },
  {
   "cell_type": "code",
   "execution_count": 178,
   "id": "bccc63a9-7ca4-4ac7-836b-4c47f82deeb4",
   "metadata": {},
   "outputs": [],
   "source": [
    "from nltk.stem import PorterStemmer\n",
    "ps = PorterStemmer()"
   ]
  },
  {
   "cell_type": "code",
   "execution_count": 180,
   "id": "d05f8050-91e3-476c-a2c0-668c9f379f76",
   "metadata": {},
   "outputs": [
    {
     "name": "stderr",
     "output_type": "stream",
     "text": [
      "<>:6: SyntaxWarning: invalid escape sequence '\\d'\n",
      "<>:6: SyntaxWarning: invalid escape sequence '\\d'\n",
      "C:\\Users\\KMN IT\\AppData\\Local\\Temp\\ipykernel_18504\\3609352730.py:6: SyntaxWarning: invalid escape sequence '\\d'\n",
      "  data[\"posts\"] = data['posts'].str.replace('\\d+', '', regex=True)\n"
     ]
    }
   ],
   "source": [
    "def preprocessing(text):\n",
    "    data = pd.DataFrame([text], columns=['posts'])\n",
    "    data[\"posts\"] = data[\"posts\"].apply(lambda x: \" \".join(x.lower() for x in x.split()))\n",
    "    data[\"posts\"] = data['posts'].apply(lambda x: \" \".join(re.sub(r'^https?:\\/\\/.*[\\r\\n]*', '', x, flags=re.MULTILINE) for x in x.split()))\n",
    "    data[\"posts\"] = data[\"posts\"].apply(remove_punctuations)\n",
    "    data[\"posts\"] = data['posts'].str.replace('\\d+', '', regex=True)\n",
    "    data[\"posts\"] = data[\"posts\"].apply(lambda x: \" \".join(x for x in x.split() if x not in sw))\n",
    "    data[\"posts\"] = data[\"posts\"].apply(lambda x: \" \".join(ps.stem(x) for x in x.split()))\n",
    "    return data[\"posts\"]"
   ]
  },
  {
   "cell_type": "code",
   "execution_count": 182,
   "id": "eafd68aa-6d7c-42fa-82a6-0626885d3c01",
   "metadata": {},
   "outputs": [],
   "source": [
    "def vectorizer(ds, vocabulary):\n",
    "    vectorized_lst = []\n",
    "    \n",
    "    for sentence in ds:\n",
    "        sentence_lst = np.zeros(len(vocabulary))\n",
    "        \n",
    "        for i in range(len(vocabulary)):\n",
    "            if vocabulary[i] in sentence.split():\n",
    "                sentence_lst[i] = 1\n",
    "                \n",
    "        vectorized_lst.append(sentence_lst)\n",
    "        \n",
    "    vectorized_lst_new = np.asarray(vectorized_lst, dtype=np.float32)\n",
    "    \n",
    "    return vectorized_lst_new"
   ]
  },
  {
   "cell_type": "code",
   "execution_count": 222,
   "id": "e00e56d5-de88-48c5-9c35-d0b56ebe9831",
   "metadata": {},
   "outputs": [],
   "source": [
    "def get_prediction(vectorized_text):\n",
    "    prediction = model.predict(vectorized_text)\n",
    "    if prediction == -2:\n",
    "        return 'very negative'\n",
    "    elif prediction == -1:\n",
    "        return 'negative'\n",
    "    elif prediction == 0:\n",
    "        return 'natural'\n",
    "    elif prediction == 1:\n",
    "        return 'positve'\n",
    "    else:\n",
    "        return 'error'"
   ]
  },
  {
   "cell_type": "code",
   "execution_count": 224,
   "id": "69145f91-bc82-4372-819e-473c3ae10da8",
   "metadata": {},
   "outputs": [
    {
     "data": {
      "text/plain": [
       "'positve'"
      ]
     },
     "execution_count": 224,
     "metadata": {},
     "output_type": "execute_result"
    }
   ],
   "source": [
    "txt ='52'\n",
    "preprocessed_txt = preprocessing(txt)\n",
    "vectorized_txt = vectorizer(preprocessed_txt, tokens)\n",
    "prediction = get_prediction(vectorized_txt)\n",
    "prediction"
   ]
  },
  {
   "cell_type": "raw",
   "id": "ce0f8f69-53fb-4075-aff7-deba676b80a3",
   "metadata": {},
   "source": []
  },
  {
   "cell_type": "code",
   "execution_count": null,
   "id": "76f7867e-8412-479b-8607-89e93f9564fc",
   "metadata": {},
   "outputs": [],
   "source": []
  }
 ],
 "metadata": {
  "kernelspec": {
   "display_name": "Python 3 (ipykernel)",
   "language": "python",
   "name": "python3"
  },
  "language_info": {
   "codemirror_mode": {
    "name": "ipython",
    "version": 3
   },
   "file_extension": ".py",
   "mimetype": "text/x-python",
   "name": "python",
   "nbconvert_exporter": "python",
   "pygments_lexer": "ipython3",
   "version": "3.12.4"
  }
 },
 "nbformat": 4,
 "nbformat_minor": 5
}
